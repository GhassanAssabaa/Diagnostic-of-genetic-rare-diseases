{
 "cells": [
  {
   "cell_type": "code",
   "execution_count": 126,
   "metadata": {},
   "outputs": [],
   "source": [
    "import pandas as pd\n",
    "\n",
    "#Reading the csv file\n",
    "data = pd.read_csv('C:/Users/HP/Desktop/Data/Final.csv')"
   ]
  },
  {
   "cell_type": "code",
   "execution_count": 127,
   "metadata": {},
   "outputs": [],
   "source": [
    "data = data.drop(columns=['Unnamed: 0'])"
   ]
  },
  {
   "cell_type": "code",
   "execution_count": 129,
   "metadata": {},
   "outputs": [],
   "source": [
    "data = data.drop(columns=['Unnamed: 0.1'])"
   ]
  },
  {
   "cell_type": "code",
   "execution_count": 130,
   "metadata": {},
   "outputs": [
    {
     "data": {
      "text/html": [
       "<div>\n",
       "<style scoped>\n",
       "    .dataframe tbody tr th:only-of-type {\n",
       "        vertical-align: middle;\n",
       "    }\n",
       "\n",
       "    .dataframe tbody tr th {\n",
       "        vertical-align: top;\n",
       "    }\n",
       "\n",
       "    .dataframe thead th {\n",
       "        text-align: right;\n",
       "    }\n",
       "</style>\n",
       "<table border=\"1\" class=\"dataframe\">\n",
       "  <thead>\n",
       "    <tr style=\"text-align: right;\">\n",
       "      <th></th>\n",
       "      <th>chin_0_x</th>\n",
       "      <th>chin_0_y</th>\n",
       "      <th>chin_1_x</th>\n",
       "      <th>chin_1_y</th>\n",
       "      <th>chin_2_x</th>\n",
       "      <th>chin_2_y</th>\n",
       "      <th>chin_3_x</th>\n",
       "      <th>chin_3_y</th>\n",
       "      <th>chin_4_x</th>\n",
       "      <th>chin_4_y</th>\n",
       "      <th>...</th>\n",
       "      <th>bottom_lip_7_y</th>\n",
       "      <th>bottom_lip_8_x</th>\n",
       "      <th>bottom_lip_8_y</th>\n",
       "      <th>bottom_lip_9_x</th>\n",
       "      <th>bottom_lip_9_y</th>\n",
       "      <th>bottom_lip_10_x</th>\n",
       "      <th>bottom_lip_10_y</th>\n",
       "      <th>bottom_lip_11_x</th>\n",
       "      <th>bottom_lip_11_y</th>\n",
       "      <th>Trisomy 21</th>\n",
       "    </tr>\n",
       "  </thead>\n",
       "  <tbody>\n",
       "    <tr>\n",
       "      <th>0</th>\n",
       "      <td>81</td>\n",
       "      <td>106</td>\n",
       "      <td>81</td>\n",
       "      <td>119</td>\n",
       "      <td>83</td>\n",
       "      <td>132</td>\n",
       "      <td>85</td>\n",
       "      <td>144</td>\n",
       "      <td>90</td>\n",
       "      <td>157</td>\n",
       "      <td>...</td>\n",
       "      <td>157</td>\n",
       "      <td>122</td>\n",
       "      <td>157</td>\n",
       "      <td>127</td>\n",
       "      <td>158</td>\n",
       "      <td>132</td>\n",
       "      <td>158</td>\n",
       "      <td>141</td>\n",
       "      <td>157</td>\n",
       "      <td>0</td>\n",
       "    </tr>\n",
       "    <tr>\n",
       "      <th>1</th>\n",
       "      <td>64</td>\n",
       "      <td>118</td>\n",
       "      <td>65</td>\n",
       "      <td>132</td>\n",
       "      <td>67</td>\n",
       "      <td>147</td>\n",
       "      <td>70</td>\n",
       "      <td>162</td>\n",
       "      <td>75</td>\n",
       "      <td>176</td>\n",
       "      <td>...</td>\n",
       "      <td>161</td>\n",
       "      <td>117</td>\n",
       "      <td>170</td>\n",
       "      <td>124</td>\n",
       "      <td>170</td>\n",
       "      <td>131</td>\n",
       "      <td>168</td>\n",
       "      <td>142</td>\n",
       "      <td>158</td>\n",
       "      <td>0</td>\n",
       "    </tr>\n",
       "    <tr>\n",
       "      <th>2</th>\n",
       "      <td>86</td>\n",
       "      <td>120</td>\n",
       "      <td>85</td>\n",
       "      <td>130</td>\n",
       "      <td>86</td>\n",
       "      <td>141</td>\n",
       "      <td>87</td>\n",
       "      <td>151</td>\n",
       "      <td>91</td>\n",
       "      <td>161</td>\n",
       "      <td>...</td>\n",
       "      <td>158</td>\n",
       "      <td>117</td>\n",
       "      <td>158</td>\n",
       "      <td>122</td>\n",
       "      <td>158</td>\n",
       "      <td>127</td>\n",
       "      <td>158</td>\n",
       "      <td>137</td>\n",
       "      <td>159</td>\n",
       "      <td>0</td>\n",
       "    </tr>\n",
       "    <tr>\n",
       "      <th>3</th>\n",
       "      <td>74</td>\n",
       "      <td>115</td>\n",
       "      <td>75</td>\n",
       "      <td>128</td>\n",
       "      <td>77</td>\n",
       "      <td>140</td>\n",
       "      <td>80</td>\n",
       "      <td>153</td>\n",
       "      <td>84</td>\n",
       "      <td>165</td>\n",
       "      <td>...</td>\n",
       "      <td>157</td>\n",
       "      <td>120</td>\n",
       "      <td>163</td>\n",
       "      <td>126</td>\n",
       "      <td>164</td>\n",
       "      <td>132</td>\n",
       "      <td>163</td>\n",
       "      <td>144</td>\n",
       "      <td>156</td>\n",
       "      <td>0</td>\n",
       "    </tr>\n",
       "    <tr>\n",
       "      <th>4</th>\n",
       "      <td>66</td>\n",
       "      <td>120</td>\n",
       "      <td>68</td>\n",
       "      <td>134</td>\n",
       "      <td>71</td>\n",
       "      <td>147</td>\n",
       "      <td>75</td>\n",
       "      <td>160</td>\n",
       "      <td>81</td>\n",
       "      <td>172</td>\n",
       "      <td>...</td>\n",
       "      <td>161</td>\n",
       "      <td>122</td>\n",
       "      <td>165</td>\n",
       "      <td>128</td>\n",
       "      <td>165</td>\n",
       "      <td>134</td>\n",
       "      <td>163</td>\n",
       "      <td>143</td>\n",
       "      <td>158</td>\n",
       "      <td>0</td>\n",
       "    </tr>\n",
       "    <tr>\n",
       "      <th>...</th>\n",
       "      <td>...</td>\n",
       "      <td>...</td>\n",
       "      <td>...</td>\n",
       "      <td>...</td>\n",
       "      <td>...</td>\n",
       "      <td>...</td>\n",
       "      <td>...</td>\n",
       "      <td>...</td>\n",
       "      <td>...</td>\n",
       "      <td>...</td>\n",
       "      <td>...</td>\n",
       "      <td>...</td>\n",
       "      <td>...</td>\n",
       "      <td>...</td>\n",
       "      <td>...</td>\n",
       "      <td>...</td>\n",
       "      <td>...</td>\n",
       "      <td>...</td>\n",
       "      <td>...</td>\n",
       "      <td>...</td>\n",
       "      <td>...</td>\n",
       "    </tr>\n",
       "    <tr>\n",
       "      <th>13908</th>\n",
       "      <td>95</td>\n",
       "      <td>53</td>\n",
       "      <td>95</td>\n",
       "      <td>60</td>\n",
       "      <td>95</td>\n",
       "      <td>68</td>\n",
       "      <td>97</td>\n",
       "      <td>75</td>\n",
       "      <td>100</td>\n",
       "      <td>81</td>\n",
       "      <td>...</td>\n",
       "      <td>76</td>\n",
       "      <td>125</td>\n",
       "      <td>77</td>\n",
       "      <td>127</td>\n",
       "      <td>77</td>\n",
       "      <td>129</td>\n",
       "      <td>77</td>\n",
       "      <td>131</td>\n",
       "      <td>77</td>\n",
       "      <td>1</td>\n",
       "    </tr>\n",
       "    <tr>\n",
       "      <th>13909</th>\n",
       "      <td>267</td>\n",
       "      <td>142</td>\n",
       "      <td>268</td>\n",
       "      <td>146</td>\n",
       "      <td>270</td>\n",
       "      <td>150</td>\n",
       "      <td>272</td>\n",
       "      <td>154</td>\n",
       "      <td>276</td>\n",
       "      <td>158</td>\n",
       "      <td>...</td>\n",
       "      <td>150</td>\n",
       "      <td>291</td>\n",
       "      <td>149</td>\n",
       "      <td>293</td>\n",
       "      <td>148</td>\n",
       "      <td>295</td>\n",
       "      <td>147</td>\n",
       "      <td>300</td>\n",
       "      <td>145</td>\n",
       "      <td>1</td>\n",
       "    </tr>\n",
       "    <tr>\n",
       "      <th>13910</th>\n",
       "      <td>166</td>\n",
       "      <td>99</td>\n",
       "      <td>166</td>\n",
       "      <td>109</td>\n",
       "      <td>166</td>\n",
       "      <td>118</td>\n",
       "      <td>167</td>\n",
       "      <td>127</td>\n",
       "      <td>170</td>\n",
       "      <td>136</td>\n",
       "      <td>...</td>\n",
       "      <td>129</td>\n",
       "      <td>200</td>\n",
       "      <td>133</td>\n",
       "      <td>205</td>\n",
       "      <td>133</td>\n",
       "      <td>210</td>\n",
       "      <td>133</td>\n",
       "      <td>221</td>\n",
       "      <td>131</td>\n",
       "      <td>1</td>\n",
       "    </tr>\n",
       "    <tr>\n",
       "      <th>13911</th>\n",
       "      <td>170</td>\n",
       "      <td>103</td>\n",
       "      <td>168</td>\n",
       "      <td>116</td>\n",
       "      <td>168</td>\n",
       "      <td>128</td>\n",
       "      <td>168</td>\n",
       "      <td>140</td>\n",
       "      <td>171</td>\n",
       "      <td>152</td>\n",
       "      <td>...</td>\n",
       "      <td>146</td>\n",
       "      <td>208</td>\n",
       "      <td>155</td>\n",
       "      <td>214</td>\n",
       "      <td>157</td>\n",
       "      <td>220</td>\n",
       "      <td>157</td>\n",
       "      <td>236</td>\n",
       "      <td>152</td>\n",
       "      <td>1</td>\n",
       "    </tr>\n",
       "    <tr>\n",
       "      <th>13912</th>\n",
       "      <td>129</td>\n",
       "      <td>117</td>\n",
       "      <td>129</td>\n",
       "      <td>133</td>\n",
       "      <td>129</td>\n",
       "      <td>148</td>\n",
       "      <td>131</td>\n",
       "      <td>163</td>\n",
       "      <td>137</td>\n",
       "      <td>176</td>\n",
       "      <td>...</td>\n",
       "      <td>163</td>\n",
       "      <td>182</td>\n",
       "      <td>169</td>\n",
       "      <td>189</td>\n",
       "      <td>170</td>\n",
       "      <td>196</td>\n",
       "      <td>170</td>\n",
       "      <td>213</td>\n",
       "      <td>164</td>\n",
       "      <td>1</td>\n",
       "    </tr>\n",
       "  </tbody>\n",
       "</table>\n",
       "<p>13913 rows × 145 columns</p>\n",
       "</div>"
      ],
      "text/plain": [
       "       chin_0_x  chin_0_y  chin_1_x  chin_1_y  chin_2_x  chin_2_y  chin_3_x  \\\n",
       "0            81       106        81       119        83       132        85   \n",
       "1            64       118        65       132        67       147        70   \n",
       "2            86       120        85       130        86       141        87   \n",
       "3            74       115        75       128        77       140        80   \n",
       "4            66       120        68       134        71       147        75   \n",
       "...         ...       ...       ...       ...       ...       ...       ...   \n",
       "13908        95        53        95        60        95        68        97   \n",
       "13909       267       142       268       146       270       150       272   \n",
       "13910       166        99       166       109       166       118       167   \n",
       "13911       170       103       168       116       168       128       168   \n",
       "13912       129       117       129       133       129       148       131   \n",
       "\n",
       "       chin_3_y  chin_4_x  chin_4_y  ...  bottom_lip_7_y  bottom_lip_8_x  \\\n",
       "0           144        90       157  ...             157             122   \n",
       "1           162        75       176  ...             161             117   \n",
       "2           151        91       161  ...             158             117   \n",
       "3           153        84       165  ...             157             120   \n",
       "4           160        81       172  ...             161             122   \n",
       "...         ...       ...       ...  ...             ...             ...   \n",
       "13908        75       100        81  ...              76             125   \n",
       "13909       154       276       158  ...             150             291   \n",
       "13910       127       170       136  ...             129             200   \n",
       "13911       140       171       152  ...             146             208   \n",
       "13912       163       137       176  ...             163             182   \n",
       "\n",
       "       bottom_lip_8_y  bottom_lip_9_x  bottom_lip_9_y  bottom_lip_10_x  \\\n",
       "0                 157             127             158              132   \n",
       "1                 170             124             170              131   \n",
       "2                 158             122             158              127   \n",
       "3                 163             126             164              132   \n",
       "4                 165             128             165              134   \n",
       "...               ...             ...             ...              ...   \n",
       "13908              77             127              77              129   \n",
       "13909             149             293             148              295   \n",
       "13910             133             205             133              210   \n",
       "13911             155             214             157              220   \n",
       "13912             169             189             170              196   \n",
       "\n",
       "       bottom_lip_10_y  bottom_lip_11_x  bottom_lip_11_y  Trisomy 21  \n",
       "0                  158              141              157           0  \n",
       "1                  168              142              158           0  \n",
       "2                  158              137              159           0  \n",
       "3                  163              144              156           0  \n",
       "4                  163              143              158           0  \n",
       "...                ...              ...              ...         ...  \n",
       "13908               77              131               77           1  \n",
       "13909              147              300              145           1  \n",
       "13910              133              221              131           1  \n",
       "13911              157              236              152           1  \n",
       "13912              170              213              164           1  \n",
       "\n",
       "[13913 rows x 145 columns]"
      ]
     },
     "execution_count": 130,
     "metadata": {},
     "output_type": "execute_result"
    }
   ],
   "source": [
    "data"
   ]
  },
  {
   "cell_type": "code",
   "execution_count": 131,
   "metadata": {},
   "outputs": [],
   "source": [
    "import numpy as np \n",
    "import sklearn.model_selection\n",
    "\n",
    "data = data[['chin_0_x','chin_0_y','chin_1_x','chin_1_y','chin_2_x','chin_2_y','chin_3_x','chin_3_y','chin_4_x','chin_4_y','chin_5_x','chin_5_y','chin_6_x','chin_6_y','chin_7_x','chin_7_y','chin_8_x','chin_8_y','chin_9_x','chin_9_y','chin_10_x','chin_10_y','chin_11_x','chin_11_y','chin_12_x','chin_12_y','chin_13_x','chin_13_y','chin_14_x','chin_14_y','chin_15_x','chin_15_y','chin_16_x','chin_16_y','left_eyebrow_0_x','left_eyebrow_0_y','left_eyebrow_1_x','left_eyebrow_1_y','left_eyebrow_2_x','left_eyebrow_2_y','left_eyebrow_3_x','left_eyebrow_3_y','left_eyebrow_4_x','left_eyebrow_4_y','right_eyebrow_0_x','right_eyebrow_0_y','right_eyebrow_1_x','right_eyebrow_1_y','right_eyebrow_2_x','right_eyebrow_2_y','right_eyebrow_3_x','right_eyebrow_3_y','right_eyebrow_4_x','right_eyebrow_4_y','nose_bridge_0_x','nose_bridge_0_y','nose_bridge_1_x','nose_bridge_1_y','nose_bridge_2_x','nose_bridge_2_y','nose_bridge_3_x','nose_bridge_3_y','nose_tip_0_x','nose_tip_0_y','nose_tip_1_x','nose_tip_1_y','nose_tip_2_x','nose_tip_2_y','nose_tip_3_x','nose_tip_3_y','nose_tip_4_x','nose_tip_4_y','left_eye_0_x','left_eye_0_y','left_eye_1_x','left_eye_1_y','left_eye_2_x','left_eye_2_y','left_eye_3_x','left_eye_3_y','left_eye_4_x','left_eye_4_y','left_eye_5_x','left_eye_5_y','right_eye_0_x','right_eye_0_y','right_eye_1_x','right_eye_1_y','right_eye_2_x','right_eye_2_y','right_eye_3_x','right_eye_3_y','right_eye_4_x','right_eye_4_y','right_eye_5_x','right_eye_5_y','top_lip_0_x','top_lip_0_y','top_lip_1_x','top_lip_1_y','top_lip_2_x','top_lip_2_y','top_lip_3_x','top_lip_3_y','top_lip_4_x','top_lip_4_y','top_lip_5_x','top_lip_5_y','top_lip_6_x','top_lip_6_y','top_lip_7_x','top_lip_7_y','top_lip_8_x','top_lip_8_y','top_lip_9_x','top_lip_9_y','top_lip_10_x','top_lip_10_y','top_lip_11_x','top_lip_11_y','bottom_lip_0_x','bottom_lip_0_y','bottom_lip_1_x','bottom_lip_1_y','bottom_lip_2_x','bottom_lip_2_y','bottom_lip_3_x','bottom_lip_3_y','bottom_lip_4_x','bottom_lip_4_y','bottom_lip_5_x','bottom_lip_5_y','bottom_lip_6_x','bottom_lip_6_y','bottom_lip_7_x','bottom_lip_7_y','bottom_lip_8_x','bottom_lip_8_y','bottom_lip_9_x','bottom_lip_9_y','bottom_lip_10_x','bottom_lip_10_y','bottom_lip_11_x','bottom_lip_11_y','Trisomy 21']]\n",
    "\n",
    "predict = 'Trisomy 21'\n",
    "\n",
    "X = np.array(data.drop([predict], 1))\n",
    "Y = np.array(data[predict])\n",
    "\n",
    "x_train, x_test, y_train, y_test = sklearn.model_selection.train_test_split(X, Y, test_size=0.2)\n"
   ]
  },
  {
   "cell_type": "code",
   "execution_count": 132,
   "metadata": {},
   "outputs": [
    {
     "data": {
      "text/plain": [
       "0.996406755300036"
      ]
     },
     "execution_count": 132,
     "metadata": {},
     "output_type": "execute_result"
    }
   ],
   "source": [
    "## Import the random forest model.\n",
    "from sklearn.ensemble import RandomForestClassifier \n",
    "## This line instantiates the model. \n",
    "rf = RandomForestClassifier() \n",
    "## Fit the model on your training data.\n",
    "rf.fit(x_train, y_train) \n",
    "## And score it on your testing data.\n",
    "rf.score(x_test, y_test)"
   ]
  },
  {
   "cell_type": "code",
   "execution_count": 133,
   "metadata": {},
   "outputs": [],
   "source": [
    "#convert numpy x_train to a dataframe\n",
    "d = pd.DataFrame(data=x_train)"
   ]
  },
  {
   "cell_type": "code",
   "execution_count": 134,
   "metadata": {},
   "outputs": [],
   "source": [
    "import pandas as pd\n",
    "feature_importances = pd.DataFrame(rf.feature_importances_,\n",
    "                                   index = d.columns,\n",
    "                                    columns=['importance']).sort_values('importance',ascending=False)"
   ]
  },
  {
   "cell_type": "code",
   "execution_count": 135,
   "metadata": {},
   "outputs": [
    {
     "data": {
      "text/html": [
       "<div>\n",
       "<style scoped>\n",
       "    .dataframe tbody tr th:only-of-type {\n",
       "        vertical-align: middle;\n",
       "    }\n",
       "\n",
       "    .dataframe tbody tr th {\n",
       "        vertical-align: top;\n",
       "    }\n",
       "\n",
       "    .dataframe thead th {\n",
       "        text-align: right;\n",
       "    }\n",
       "</style>\n",
       "<table border=\"1\" class=\"dataframe\">\n",
       "  <thead>\n",
       "    <tr style=\"text-align: right;\">\n",
       "      <th></th>\n",
       "      <th>importance</th>\n",
       "    </tr>\n",
       "  </thead>\n",
       "  <tbody>\n",
       "    <tr>\n",
       "      <th>19</th>\n",
       "      <td>0.088523</td>\n",
       "    </tr>\n",
       "    <tr>\n",
       "      <th>2</th>\n",
       "      <td>0.057878</td>\n",
       "    </tr>\n",
       "    <tr>\n",
       "      <th>15</th>\n",
       "      <td>0.052291</td>\n",
       "    </tr>\n",
       "    <tr>\n",
       "      <th>13</th>\n",
       "      <td>0.048662</td>\n",
       "    </tr>\n",
       "    <tr>\n",
       "      <th>11</th>\n",
       "      <td>0.035389</td>\n",
       "    </tr>\n",
       "    <tr>\n",
       "      <th>...</th>\n",
       "      <td>...</td>\n",
       "    </tr>\n",
       "    <tr>\n",
       "      <th>75</th>\n",
       "      <td>0.000443</td>\n",
       "    </tr>\n",
       "    <tr>\n",
       "      <th>82</th>\n",
       "      <td>0.000437</td>\n",
       "    </tr>\n",
       "    <tr>\n",
       "      <th>101</th>\n",
       "      <td>0.000419</td>\n",
       "    </tr>\n",
       "    <tr>\n",
       "      <th>3</th>\n",
       "      <td>0.000408</td>\n",
       "    </tr>\n",
       "    <tr>\n",
       "      <th>33</th>\n",
       "      <td>0.000386</td>\n",
       "    </tr>\n",
       "  </tbody>\n",
       "</table>\n",
       "<p>144 rows × 1 columns</p>\n",
       "</div>"
      ],
      "text/plain": [
       "     importance\n",
       "19     0.088523\n",
       "2      0.057878\n",
       "15     0.052291\n",
       "13     0.048662\n",
       "11     0.035389\n",
       "..          ...\n",
       "75     0.000443\n",
       "82     0.000437\n",
       "101    0.000419\n",
       "3      0.000408\n",
       "33     0.000386\n",
       "\n",
       "[144 rows x 1 columns]"
      ]
     },
     "execution_count": 135,
     "metadata": {},
     "output_type": "execute_result"
    }
   ],
   "source": [
    "#L'importance des features \n",
    "feature_importances"
   ]
  },
  {
   "cell_type": "code",
   "execution_count": 136,
   "metadata": {},
   "outputs": [],
   "source": [
    "feature_importances['index_col'] = feature_importances.index"
   ]
  },
  {
   "cell_type": "code",
   "execution_count": 137,
   "metadata": {},
   "outputs": [
    {
     "data": {
      "application/vnd.plotly.v1+json": {
       "config": {
        "plotlyServerURL": "https://plot.ly"
       },
       "data": [
        {
         "alignmentgroup": "True",
         "hovertemplate": "index_col=%{x}<br>importance=%{y}<extra></extra>",
         "legendgroup": "",
         "marker": {
          "color": "#636efa"
         },
         "name": "",
         "offsetgroup": "",
         "orientation": "v",
         "showlegend": false,
         "textposition": "auto",
         "type": "bar",
         "x": [
          19,
          2,
          15,
          13,
          11,
          4,
          125,
          97,
          109,
          113,
          17,
          21,
          132,
          118,
          99,
          135,
          134,
          34,
          72,
          111,
          143,
          12,
          96,
          8,
          78,
          130,
          98,
          133,
          137,
          63,
          129,
          0,
          7,
          141,
          123,
          115,
          119,
          107,
          117,
          85,
          94,
          90,
          106,
          20,
          142,
          18,
          88,
          29,
          86,
          92,
          89,
          84,
          25,
          95,
          52,
          110,
          22,
          136,
          93,
          87,
          14,
          122,
          100,
          16,
          124,
          126,
          140,
          91,
          62,
          66,
          27,
          102,
          108,
          68,
          26,
          31,
          71,
          24,
          23,
          46,
          30,
          74,
          39,
          80,
          59,
          127,
          28,
          64,
          9,
          55,
          120,
          67,
          57,
          139,
          49,
          45,
          47,
          121,
          51,
          10,
          138,
          32,
          112,
          128,
          53,
          69,
          79,
          42,
          83,
          73,
          43,
          56,
          65,
          36,
          41,
          38,
          104,
          77,
          81,
          48,
          116,
          5,
          61,
          114,
          40,
          54,
          105,
          35,
          6,
          60,
          103,
          58,
          37,
          131,
          44,
          1,
          76,
          70,
          50,
          75,
          82,
          101,
          3,
          33
         ],
         "xaxis": "x",
         "y": [
          0.08852329417645713,
          0.057878082343211394,
          0.05229135453359889,
          0.04866208078394836,
          0.03538929890680503,
          0.034817673659769774,
          0.033099173896859214,
          0.03271141693348036,
          0.03185253417378573,
          0.03180157141550513,
          0.02531481534785158,
          0.025216842451451185,
          0.025080221863028697,
          0.024913635972407956,
          0.024501063841132768,
          0.023664212394170603,
          0.01778357296168661,
          0.017093561488224752,
          0.016825458527860115,
          0.016773341582421216,
          0.016541359535577026,
          0.012782056655986833,
          0.01208771320888715,
          0.01048358738025077,
          0.010481056476593233,
          0.010450441339819618,
          0.009570624076377167,
          0.009483252267748259,
          0.009379298684633084,
          0.009194040423500886,
          0.009002064749891982,
          0.008944383014679938,
          0.008767399986842448,
          0.008642866713163338,
          0.0085796179326999,
          0.008370866969094752,
          0.008229586656705246,
          0.008227841118187884,
          0.008075385786770821,
          0.00407840267408923,
          0.0037755489240581313,
          0.0036121696911904618,
          0.003574549256196906,
          0.0035494149841886085,
          0.003480376775620075,
          0.003405397333690341,
          0.0033387506596164428,
          0.003312786462008691,
          0.003083516922614357,
          0.00304619800610727,
          0.0025816953819781186,
          0.0025589895026443005,
          0.0025023804829084817,
          0.0025015004104329717,
          0.0024481425108313793,
          0.002368639502652513,
          0.0023681729136207567,
          0.0022859168308191256,
          0.00222022113281899,
          0.0022200559115279793,
          0.002158927163941833,
          0.0020384720176075148,
          0.002018808380406439,
          0.0019179581923541031,
          0.0019161762418557454,
          0.001903972735686223,
          0.0018338230583948708,
          0.0017597149476789662,
          0.0016857469433173736,
          0.001680352983719474,
          0.0016252753197678476,
          0.0015613446903530248,
          0.0015348827303217686,
          0.001531422645887154,
          0.0015031305732846841,
          0.0014977044365939974,
          0.0014738418072324276,
          0.0013776242628920168,
          0.001359016288044432,
          0.001329017334438666,
          0.0012806191649671031,
          0.0012416764037365352,
          0.0012251894433501088,
          0.0011754405292694788,
          0.0011548132046859162,
          0.0011377643912865029,
          0.0011262831840529908,
          0.0011200615461011644,
          0.0011186151578080014,
          0.0011099101542114851,
          0.0010968475809132127,
          0.001095594605253967,
          0.001078032049514289,
          0.00107651218841021,
          0.00106596588795723,
          0.0010328911086484708,
          0.0010253092274230713,
          0.0009944655146509815,
          0.0009859536119826704,
          0.0009727768050343842,
          0.000961501982024341,
          0.0009567044674074065,
          0.0009428403414815283,
          0.0009373529408423554,
          0.0009041975767230709,
          0.0008990795407764468,
          0.0008913577797114233,
          0.0008906703332084738,
          0.0008699482639990868,
          0.0008561979682036983,
          0.000841863692266201,
          0.0008335652322423449,
          0.0008082096992515175,
          0.0007860398530934315,
          0.0007856510800934699,
          0.000776243610621004,
          0.0007646760151965243,
          0.000762736243043616,
          0.00075376312029603,
          0.0007033455622068274,
          0.0006961707241647426,
          0.0006770413896452224,
          0.0006747125941021073,
          0.0006678008929855839,
          0.0006496112475045068,
          0.0006483952129900125,
          0.0006272568748693957,
          0.0006118501334045666,
          0.0005967024994308448,
          0.0005958789240367377,
          0.0005947374841679741,
          0.0005946723986074981,
          0.0005880413878228258,
          0.0005676825913545919,
          0.0005548968487857652,
          0.0005336619997773757,
          0.0005280184351834282,
          0.0005075303360933594,
          0.0004442335470478339,
          0.000443368319105893,
          0.00043718204015671816,
          0.00041854982260303505,
          0.00040848530998710433,
          0.00038616266976579383
         ],
         "yaxis": "y"
        }
       ],
       "layout": {
        "barmode": "relative",
        "legend": {
         "tracegroupgap": 0
        },
        "margin": {
         "t": 60
        },
        "template": {
         "data": {
          "bar": [
           {
            "error_x": {
             "color": "#2a3f5f"
            },
            "error_y": {
             "color": "#2a3f5f"
            },
            "marker": {
             "line": {
              "color": "#E5ECF6",
              "width": 0.5
             }
            },
            "type": "bar"
           }
          ],
          "barpolar": [
           {
            "marker": {
             "line": {
              "color": "#E5ECF6",
              "width": 0.5
             }
            },
            "type": "barpolar"
           }
          ],
          "carpet": [
           {
            "aaxis": {
             "endlinecolor": "#2a3f5f",
             "gridcolor": "white",
             "linecolor": "white",
             "minorgridcolor": "white",
             "startlinecolor": "#2a3f5f"
            },
            "baxis": {
             "endlinecolor": "#2a3f5f",
             "gridcolor": "white",
             "linecolor": "white",
             "minorgridcolor": "white",
             "startlinecolor": "#2a3f5f"
            },
            "type": "carpet"
           }
          ],
          "choropleth": [
           {
            "colorbar": {
             "outlinewidth": 0,
             "ticks": ""
            },
            "type": "choropleth"
           }
          ],
          "contour": [
           {
            "colorbar": {
             "outlinewidth": 0,
             "ticks": ""
            },
            "colorscale": [
             [
              0,
              "#0d0887"
             ],
             [
              0.1111111111111111,
              "#46039f"
             ],
             [
              0.2222222222222222,
              "#7201a8"
             ],
             [
              0.3333333333333333,
              "#9c179e"
             ],
             [
              0.4444444444444444,
              "#bd3786"
             ],
             [
              0.5555555555555556,
              "#d8576b"
             ],
             [
              0.6666666666666666,
              "#ed7953"
             ],
             [
              0.7777777777777778,
              "#fb9f3a"
             ],
             [
              0.8888888888888888,
              "#fdca26"
             ],
             [
              1,
              "#f0f921"
             ]
            ],
            "type": "contour"
           }
          ],
          "contourcarpet": [
           {
            "colorbar": {
             "outlinewidth": 0,
             "ticks": ""
            },
            "type": "contourcarpet"
           }
          ],
          "heatmap": [
           {
            "colorbar": {
             "outlinewidth": 0,
             "ticks": ""
            },
            "colorscale": [
             [
              0,
              "#0d0887"
             ],
             [
              0.1111111111111111,
              "#46039f"
             ],
             [
              0.2222222222222222,
              "#7201a8"
             ],
             [
              0.3333333333333333,
              "#9c179e"
             ],
             [
              0.4444444444444444,
              "#bd3786"
             ],
             [
              0.5555555555555556,
              "#d8576b"
             ],
             [
              0.6666666666666666,
              "#ed7953"
             ],
             [
              0.7777777777777778,
              "#fb9f3a"
             ],
             [
              0.8888888888888888,
              "#fdca26"
             ],
             [
              1,
              "#f0f921"
             ]
            ],
            "type": "heatmap"
           }
          ],
          "heatmapgl": [
           {
            "colorbar": {
             "outlinewidth": 0,
             "ticks": ""
            },
            "colorscale": [
             [
              0,
              "#0d0887"
             ],
             [
              0.1111111111111111,
              "#46039f"
             ],
             [
              0.2222222222222222,
              "#7201a8"
             ],
             [
              0.3333333333333333,
              "#9c179e"
             ],
             [
              0.4444444444444444,
              "#bd3786"
             ],
             [
              0.5555555555555556,
              "#d8576b"
             ],
             [
              0.6666666666666666,
              "#ed7953"
             ],
             [
              0.7777777777777778,
              "#fb9f3a"
             ],
             [
              0.8888888888888888,
              "#fdca26"
             ],
             [
              1,
              "#f0f921"
             ]
            ],
            "type": "heatmapgl"
           }
          ],
          "histogram": [
           {
            "marker": {
             "colorbar": {
              "outlinewidth": 0,
              "ticks": ""
             }
            },
            "type": "histogram"
           }
          ],
          "histogram2d": [
           {
            "colorbar": {
             "outlinewidth": 0,
             "ticks": ""
            },
            "colorscale": [
             [
              0,
              "#0d0887"
             ],
             [
              0.1111111111111111,
              "#46039f"
             ],
             [
              0.2222222222222222,
              "#7201a8"
             ],
             [
              0.3333333333333333,
              "#9c179e"
             ],
             [
              0.4444444444444444,
              "#bd3786"
             ],
             [
              0.5555555555555556,
              "#d8576b"
             ],
             [
              0.6666666666666666,
              "#ed7953"
             ],
             [
              0.7777777777777778,
              "#fb9f3a"
             ],
             [
              0.8888888888888888,
              "#fdca26"
             ],
             [
              1,
              "#f0f921"
             ]
            ],
            "type": "histogram2d"
           }
          ],
          "histogram2dcontour": [
           {
            "colorbar": {
             "outlinewidth": 0,
             "ticks": ""
            },
            "colorscale": [
             [
              0,
              "#0d0887"
             ],
             [
              0.1111111111111111,
              "#46039f"
             ],
             [
              0.2222222222222222,
              "#7201a8"
             ],
             [
              0.3333333333333333,
              "#9c179e"
             ],
             [
              0.4444444444444444,
              "#bd3786"
             ],
             [
              0.5555555555555556,
              "#d8576b"
             ],
             [
              0.6666666666666666,
              "#ed7953"
             ],
             [
              0.7777777777777778,
              "#fb9f3a"
             ],
             [
              0.8888888888888888,
              "#fdca26"
             ],
             [
              1,
              "#f0f921"
             ]
            ],
            "type": "histogram2dcontour"
           }
          ],
          "mesh3d": [
           {
            "colorbar": {
             "outlinewidth": 0,
             "ticks": ""
            },
            "type": "mesh3d"
           }
          ],
          "parcoords": [
           {
            "line": {
             "colorbar": {
              "outlinewidth": 0,
              "ticks": ""
             }
            },
            "type": "parcoords"
           }
          ],
          "pie": [
           {
            "automargin": true,
            "type": "pie"
           }
          ],
          "scatter": [
           {
            "marker": {
             "colorbar": {
              "outlinewidth": 0,
              "ticks": ""
             }
            },
            "type": "scatter"
           }
          ],
          "scatter3d": [
           {
            "line": {
             "colorbar": {
              "outlinewidth": 0,
              "ticks": ""
             }
            },
            "marker": {
             "colorbar": {
              "outlinewidth": 0,
              "ticks": ""
             }
            },
            "type": "scatter3d"
           }
          ],
          "scattercarpet": [
           {
            "marker": {
             "colorbar": {
              "outlinewidth": 0,
              "ticks": ""
             }
            },
            "type": "scattercarpet"
           }
          ],
          "scattergeo": [
           {
            "marker": {
             "colorbar": {
              "outlinewidth": 0,
              "ticks": ""
             }
            },
            "type": "scattergeo"
           }
          ],
          "scattergl": [
           {
            "marker": {
             "colorbar": {
              "outlinewidth": 0,
              "ticks": ""
             }
            },
            "type": "scattergl"
           }
          ],
          "scattermapbox": [
           {
            "marker": {
             "colorbar": {
              "outlinewidth": 0,
              "ticks": ""
             }
            },
            "type": "scattermapbox"
           }
          ],
          "scatterpolar": [
           {
            "marker": {
             "colorbar": {
              "outlinewidth": 0,
              "ticks": ""
             }
            },
            "type": "scatterpolar"
           }
          ],
          "scatterpolargl": [
           {
            "marker": {
             "colorbar": {
              "outlinewidth": 0,
              "ticks": ""
             }
            },
            "type": "scatterpolargl"
           }
          ],
          "scatterternary": [
           {
            "marker": {
             "colorbar": {
              "outlinewidth": 0,
              "ticks": ""
             }
            },
            "type": "scatterternary"
           }
          ],
          "surface": [
           {
            "colorbar": {
             "outlinewidth": 0,
             "ticks": ""
            },
            "colorscale": [
             [
              0,
              "#0d0887"
             ],
             [
              0.1111111111111111,
              "#46039f"
             ],
             [
              0.2222222222222222,
              "#7201a8"
             ],
             [
              0.3333333333333333,
              "#9c179e"
             ],
             [
              0.4444444444444444,
              "#bd3786"
             ],
             [
              0.5555555555555556,
              "#d8576b"
             ],
             [
              0.6666666666666666,
              "#ed7953"
             ],
             [
              0.7777777777777778,
              "#fb9f3a"
             ],
             [
              0.8888888888888888,
              "#fdca26"
             ],
             [
              1,
              "#f0f921"
             ]
            ],
            "type": "surface"
           }
          ],
          "table": [
           {
            "cells": {
             "fill": {
              "color": "#EBF0F8"
             },
             "line": {
              "color": "white"
             }
            },
            "header": {
             "fill": {
              "color": "#C8D4E3"
             },
             "line": {
              "color": "white"
             }
            },
            "type": "table"
           }
          ]
         },
         "layout": {
          "annotationdefaults": {
           "arrowcolor": "#2a3f5f",
           "arrowhead": 0,
           "arrowwidth": 1
          },
          "coloraxis": {
           "colorbar": {
            "outlinewidth": 0,
            "ticks": ""
           }
          },
          "colorscale": {
           "diverging": [
            [
             0,
             "#8e0152"
            ],
            [
             0.1,
             "#c51b7d"
            ],
            [
             0.2,
             "#de77ae"
            ],
            [
             0.3,
             "#f1b6da"
            ],
            [
             0.4,
             "#fde0ef"
            ],
            [
             0.5,
             "#f7f7f7"
            ],
            [
             0.6,
             "#e6f5d0"
            ],
            [
             0.7,
             "#b8e186"
            ],
            [
             0.8,
             "#7fbc41"
            ],
            [
             0.9,
             "#4d9221"
            ],
            [
             1,
             "#276419"
            ]
           ],
           "sequential": [
            [
             0,
             "#0d0887"
            ],
            [
             0.1111111111111111,
             "#46039f"
            ],
            [
             0.2222222222222222,
             "#7201a8"
            ],
            [
             0.3333333333333333,
             "#9c179e"
            ],
            [
             0.4444444444444444,
             "#bd3786"
            ],
            [
             0.5555555555555556,
             "#d8576b"
            ],
            [
             0.6666666666666666,
             "#ed7953"
            ],
            [
             0.7777777777777778,
             "#fb9f3a"
            ],
            [
             0.8888888888888888,
             "#fdca26"
            ],
            [
             1,
             "#f0f921"
            ]
           ],
           "sequentialminus": [
            [
             0,
             "#0d0887"
            ],
            [
             0.1111111111111111,
             "#46039f"
            ],
            [
             0.2222222222222222,
             "#7201a8"
            ],
            [
             0.3333333333333333,
             "#9c179e"
            ],
            [
             0.4444444444444444,
             "#bd3786"
            ],
            [
             0.5555555555555556,
             "#d8576b"
            ],
            [
             0.6666666666666666,
             "#ed7953"
            ],
            [
             0.7777777777777778,
             "#fb9f3a"
            ],
            [
             0.8888888888888888,
             "#fdca26"
            ],
            [
             1,
             "#f0f921"
            ]
           ]
          },
          "colorway": [
           "#636efa",
           "#EF553B",
           "#00cc96",
           "#ab63fa",
           "#FFA15A",
           "#19d3f3",
           "#FF6692",
           "#B6E880",
           "#FF97FF",
           "#FECB52"
          ],
          "font": {
           "color": "#2a3f5f"
          },
          "geo": {
           "bgcolor": "white",
           "lakecolor": "white",
           "landcolor": "#E5ECF6",
           "showlakes": true,
           "showland": true,
           "subunitcolor": "white"
          },
          "hoverlabel": {
           "align": "left"
          },
          "hovermode": "closest",
          "mapbox": {
           "style": "light"
          },
          "paper_bgcolor": "white",
          "plot_bgcolor": "#E5ECF6",
          "polar": {
           "angularaxis": {
            "gridcolor": "white",
            "linecolor": "white",
            "ticks": ""
           },
           "bgcolor": "#E5ECF6",
           "radialaxis": {
            "gridcolor": "white",
            "linecolor": "white",
            "ticks": ""
           }
          },
          "scene": {
           "xaxis": {
            "backgroundcolor": "#E5ECF6",
            "gridcolor": "white",
            "gridwidth": 2,
            "linecolor": "white",
            "showbackground": true,
            "ticks": "",
            "zerolinecolor": "white"
           },
           "yaxis": {
            "backgroundcolor": "#E5ECF6",
            "gridcolor": "white",
            "gridwidth": 2,
            "linecolor": "white",
            "showbackground": true,
            "ticks": "",
            "zerolinecolor": "white"
           },
           "zaxis": {
            "backgroundcolor": "#E5ECF6",
            "gridcolor": "white",
            "gridwidth": 2,
            "linecolor": "white",
            "showbackground": true,
            "ticks": "",
            "zerolinecolor": "white"
           }
          },
          "shapedefaults": {
           "line": {
            "color": "#2a3f5f"
           }
          },
          "ternary": {
           "aaxis": {
            "gridcolor": "white",
            "linecolor": "white",
            "ticks": ""
           },
           "baxis": {
            "gridcolor": "white",
            "linecolor": "white",
            "ticks": ""
           },
           "bgcolor": "#E5ECF6",
           "caxis": {
            "gridcolor": "white",
            "linecolor": "white",
            "ticks": ""
           }
          },
          "title": {
           "x": 0.05
          },
          "xaxis": {
           "automargin": true,
           "gridcolor": "white",
           "linecolor": "white",
           "ticks": "",
           "title": {
            "standoff": 15
           },
           "zerolinecolor": "white",
           "zerolinewidth": 2
          },
          "yaxis": {
           "automargin": true,
           "gridcolor": "white",
           "linecolor": "white",
           "ticks": "",
           "title": {
            "standoff": 15
           },
           "zerolinecolor": "white",
           "zerolinewidth": 2
          }
         }
        },
        "xaxis": {
         "anchor": "y",
         "domain": [
          0,
          1
         ],
         "title": {
          "text": "index_col"
         }
        },
        "yaxis": {
         "anchor": "x",
         "domain": [
          0,
          1
         ],
         "title": {
          "text": "importance"
         }
        }
       }
      },
      "text/html": [
       "<div>\n",
       "        \n",
       "        \n",
       "            <div id=\"40ea67fb-430f-40c0-8de2-51db72d8080a\" class=\"plotly-graph-div\" style=\"height:525px; width:100%;\"></div>\n",
       "            <script type=\"text/javascript\">\n",
       "                require([\"plotly\"], function(Plotly) {\n",
       "                    window.PLOTLYENV=window.PLOTLYENV || {};\n",
       "                    \n",
       "                if (document.getElementById(\"40ea67fb-430f-40c0-8de2-51db72d8080a\")) {\n",
       "                    Plotly.newPlot(\n",
       "                        '40ea67fb-430f-40c0-8de2-51db72d8080a',\n",
       "                        [{\"alignmentgroup\": \"True\", \"hovertemplate\": \"index_col=%{x}<br>importance=%{y}<extra></extra>\", \"legendgroup\": \"\", \"marker\": {\"color\": \"#636efa\"}, \"name\": \"\", \"offsetgroup\": \"\", \"orientation\": \"v\", \"showlegend\": false, \"textposition\": \"auto\", \"type\": \"bar\", \"x\": [19, 2, 15, 13, 11, 4, 125, 97, 109, 113, 17, 21, 132, 118, 99, 135, 134, 34, 72, 111, 143, 12, 96, 8, 78, 130, 98, 133, 137, 63, 129, 0, 7, 141, 123, 115, 119, 107, 117, 85, 94, 90, 106, 20, 142, 18, 88, 29, 86, 92, 89, 84, 25, 95, 52, 110, 22, 136, 93, 87, 14, 122, 100, 16, 124, 126, 140, 91, 62, 66, 27, 102, 108, 68, 26, 31, 71, 24, 23, 46, 30, 74, 39, 80, 59, 127, 28, 64, 9, 55, 120, 67, 57, 139, 49, 45, 47, 121, 51, 10, 138, 32, 112, 128, 53, 69, 79, 42, 83, 73, 43, 56, 65, 36, 41, 38, 104, 77, 81, 48, 116, 5, 61, 114, 40, 54, 105, 35, 6, 60, 103, 58, 37, 131, 44, 1, 76, 70, 50, 75, 82, 101, 3, 33], \"xaxis\": \"x\", \"y\": [0.08852329417645713, 0.057878082343211394, 0.05229135453359889, 0.04866208078394836, 0.03538929890680503, 0.034817673659769774, 0.033099173896859214, 0.03271141693348036, 0.03185253417378573, 0.03180157141550513, 0.02531481534785158, 0.025216842451451185, 0.025080221863028697, 0.024913635972407956, 0.024501063841132768, 0.023664212394170603, 0.01778357296168661, 0.017093561488224752, 0.016825458527860115, 0.016773341582421216, 0.016541359535577026, 0.012782056655986833, 0.01208771320888715, 0.01048358738025077, 0.010481056476593233, 0.010450441339819618, 0.009570624076377167, 0.009483252267748259, 0.009379298684633084, 0.009194040423500886, 0.009002064749891982, 0.008944383014679938, 0.008767399986842448, 0.008642866713163338, 0.0085796179326999, 0.008370866969094752, 0.008229586656705246, 0.008227841118187884, 0.008075385786770821, 0.00407840267408923, 0.0037755489240581313, 0.0036121696911904618, 0.003574549256196906, 0.0035494149841886085, 0.003480376775620075, 0.003405397333690341, 0.0033387506596164428, 0.003312786462008691, 0.003083516922614357, 0.00304619800610727, 0.0025816953819781186, 0.0025589895026443005, 0.0025023804829084817, 0.0025015004104329717, 0.0024481425108313793, 0.002368639502652513, 0.0023681729136207567, 0.0022859168308191256, 0.00222022113281899, 0.0022200559115279793, 0.002158927163941833, 0.0020384720176075148, 0.002018808380406439, 0.0019179581923541031, 0.0019161762418557454, 0.001903972735686223, 0.0018338230583948708, 0.0017597149476789662, 0.0016857469433173736, 0.001680352983719474, 0.0016252753197678476, 0.0015613446903530248, 0.0015348827303217686, 0.001531422645887154, 0.0015031305732846841, 0.0014977044365939974, 0.0014738418072324276, 0.0013776242628920168, 0.001359016288044432, 0.001329017334438666, 0.0012806191649671031, 0.0012416764037365352, 0.0012251894433501088, 0.0011754405292694788, 0.0011548132046859162, 0.0011377643912865029, 0.0011262831840529908, 0.0011200615461011644, 0.0011186151578080014, 0.0011099101542114851, 0.0010968475809132127, 0.001095594605253967, 0.001078032049514289, 0.00107651218841021, 0.00106596588795723, 0.0010328911086484708, 0.0010253092274230713, 0.0009944655146509815, 0.0009859536119826704, 0.0009727768050343842, 0.000961501982024341, 0.0009567044674074065, 0.0009428403414815283, 0.0009373529408423554, 0.0009041975767230709, 0.0008990795407764468, 0.0008913577797114233, 0.0008906703332084738, 0.0008699482639990868, 0.0008561979682036983, 0.000841863692266201, 0.0008335652322423449, 0.0008082096992515175, 0.0007860398530934315, 0.0007856510800934699, 0.000776243610621004, 0.0007646760151965243, 0.000762736243043616, 0.00075376312029603, 0.0007033455622068274, 0.0006961707241647426, 0.0006770413896452224, 0.0006747125941021073, 0.0006678008929855839, 0.0006496112475045068, 0.0006483952129900125, 0.0006272568748693957, 0.0006118501334045666, 0.0005967024994308448, 0.0005958789240367377, 0.0005947374841679741, 0.0005946723986074981, 0.0005880413878228258, 0.0005676825913545919, 0.0005548968487857652, 0.0005336619997773757, 0.0005280184351834282, 0.0005075303360933594, 0.0004442335470478339, 0.000443368319105893, 0.00043718204015671816, 0.00041854982260303505, 0.00040848530998710433, 0.00038616266976579383], \"yaxis\": \"y\"}],\n",
       "                        {\"barmode\": \"relative\", \"legend\": {\"tracegroupgap\": 0}, \"margin\": {\"t\": 60}, \"template\": {\"data\": {\"bar\": [{\"error_x\": {\"color\": \"#2a3f5f\"}, \"error_y\": {\"color\": \"#2a3f5f\"}, \"marker\": {\"line\": {\"color\": \"#E5ECF6\", \"width\": 0.5}}, \"type\": \"bar\"}], \"barpolar\": [{\"marker\": {\"line\": {\"color\": \"#E5ECF6\", \"width\": 0.5}}, \"type\": \"barpolar\"}], \"carpet\": [{\"aaxis\": {\"endlinecolor\": \"#2a3f5f\", \"gridcolor\": \"white\", \"linecolor\": \"white\", \"minorgridcolor\": \"white\", \"startlinecolor\": \"#2a3f5f\"}, \"baxis\": {\"endlinecolor\": \"#2a3f5f\", \"gridcolor\": \"white\", \"linecolor\": \"white\", \"minorgridcolor\": \"white\", \"startlinecolor\": \"#2a3f5f\"}, \"type\": \"carpet\"}], \"choropleth\": [{\"colorbar\": {\"outlinewidth\": 0, \"ticks\": \"\"}, \"type\": \"choropleth\"}], \"contour\": [{\"colorbar\": {\"outlinewidth\": 0, \"ticks\": \"\"}, \"colorscale\": [[0.0, \"#0d0887\"], [0.1111111111111111, \"#46039f\"], [0.2222222222222222, \"#7201a8\"], [0.3333333333333333, \"#9c179e\"], [0.4444444444444444, \"#bd3786\"], [0.5555555555555556, \"#d8576b\"], [0.6666666666666666, \"#ed7953\"], [0.7777777777777778, \"#fb9f3a\"], [0.8888888888888888, \"#fdca26\"], [1.0, \"#f0f921\"]], \"type\": \"contour\"}], \"contourcarpet\": [{\"colorbar\": {\"outlinewidth\": 0, \"ticks\": \"\"}, \"type\": \"contourcarpet\"}], \"heatmap\": [{\"colorbar\": {\"outlinewidth\": 0, \"ticks\": \"\"}, \"colorscale\": [[0.0, \"#0d0887\"], [0.1111111111111111, \"#46039f\"], [0.2222222222222222, \"#7201a8\"], [0.3333333333333333, \"#9c179e\"], [0.4444444444444444, \"#bd3786\"], [0.5555555555555556, \"#d8576b\"], [0.6666666666666666, \"#ed7953\"], [0.7777777777777778, \"#fb9f3a\"], [0.8888888888888888, \"#fdca26\"], [1.0, \"#f0f921\"]], \"type\": \"heatmap\"}], \"heatmapgl\": [{\"colorbar\": {\"outlinewidth\": 0, \"ticks\": \"\"}, \"colorscale\": [[0.0, \"#0d0887\"], [0.1111111111111111, \"#46039f\"], [0.2222222222222222, \"#7201a8\"], [0.3333333333333333, \"#9c179e\"], [0.4444444444444444, \"#bd3786\"], [0.5555555555555556, \"#d8576b\"], [0.6666666666666666, \"#ed7953\"], [0.7777777777777778, \"#fb9f3a\"], [0.8888888888888888, \"#fdca26\"], [1.0, \"#f0f921\"]], \"type\": \"heatmapgl\"}], \"histogram\": [{\"marker\": {\"colorbar\": {\"outlinewidth\": 0, \"ticks\": \"\"}}, \"type\": \"histogram\"}], \"histogram2d\": [{\"colorbar\": {\"outlinewidth\": 0, \"ticks\": \"\"}, \"colorscale\": [[0.0, \"#0d0887\"], [0.1111111111111111, \"#46039f\"], [0.2222222222222222, \"#7201a8\"], [0.3333333333333333, \"#9c179e\"], [0.4444444444444444, \"#bd3786\"], [0.5555555555555556, \"#d8576b\"], [0.6666666666666666, \"#ed7953\"], [0.7777777777777778, \"#fb9f3a\"], [0.8888888888888888, \"#fdca26\"], [1.0, \"#f0f921\"]], \"type\": \"histogram2d\"}], \"histogram2dcontour\": [{\"colorbar\": {\"outlinewidth\": 0, \"ticks\": \"\"}, \"colorscale\": [[0.0, \"#0d0887\"], [0.1111111111111111, \"#46039f\"], [0.2222222222222222, \"#7201a8\"], [0.3333333333333333, \"#9c179e\"], [0.4444444444444444, \"#bd3786\"], [0.5555555555555556, \"#d8576b\"], [0.6666666666666666, \"#ed7953\"], [0.7777777777777778, \"#fb9f3a\"], [0.8888888888888888, \"#fdca26\"], [1.0, \"#f0f921\"]], \"type\": \"histogram2dcontour\"}], \"mesh3d\": [{\"colorbar\": {\"outlinewidth\": 0, \"ticks\": \"\"}, \"type\": \"mesh3d\"}], \"parcoords\": [{\"line\": {\"colorbar\": {\"outlinewidth\": 0, \"ticks\": \"\"}}, \"type\": \"parcoords\"}], \"pie\": [{\"automargin\": true, \"type\": \"pie\"}], \"scatter\": [{\"marker\": {\"colorbar\": {\"outlinewidth\": 0, \"ticks\": \"\"}}, \"type\": \"scatter\"}], \"scatter3d\": [{\"line\": {\"colorbar\": {\"outlinewidth\": 0, \"ticks\": \"\"}}, \"marker\": {\"colorbar\": {\"outlinewidth\": 0, \"ticks\": \"\"}}, \"type\": \"scatter3d\"}], \"scattercarpet\": [{\"marker\": {\"colorbar\": {\"outlinewidth\": 0, \"ticks\": \"\"}}, \"type\": \"scattercarpet\"}], \"scattergeo\": [{\"marker\": {\"colorbar\": {\"outlinewidth\": 0, \"ticks\": \"\"}}, \"type\": \"scattergeo\"}], \"scattergl\": [{\"marker\": {\"colorbar\": {\"outlinewidth\": 0, \"ticks\": \"\"}}, \"type\": \"scattergl\"}], \"scattermapbox\": [{\"marker\": {\"colorbar\": {\"outlinewidth\": 0, \"ticks\": \"\"}}, \"type\": \"scattermapbox\"}], \"scatterpolar\": [{\"marker\": {\"colorbar\": {\"outlinewidth\": 0, \"ticks\": \"\"}}, \"type\": \"scatterpolar\"}], \"scatterpolargl\": [{\"marker\": {\"colorbar\": {\"outlinewidth\": 0, \"ticks\": \"\"}}, \"type\": \"scatterpolargl\"}], \"scatterternary\": [{\"marker\": {\"colorbar\": {\"outlinewidth\": 0, \"ticks\": \"\"}}, \"type\": \"scatterternary\"}], \"surface\": [{\"colorbar\": {\"outlinewidth\": 0, \"ticks\": \"\"}, \"colorscale\": [[0.0, \"#0d0887\"], [0.1111111111111111, \"#46039f\"], [0.2222222222222222, \"#7201a8\"], [0.3333333333333333, \"#9c179e\"], [0.4444444444444444, \"#bd3786\"], [0.5555555555555556, \"#d8576b\"], [0.6666666666666666, \"#ed7953\"], [0.7777777777777778, \"#fb9f3a\"], [0.8888888888888888, \"#fdca26\"], [1.0, \"#f0f921\"]], \"type\": \"surface\"}], \"table\": [{\"cells\": {\"fill\": {\"color\": \"#EBF0F8\"}, \"line\": {\"color\": \"white\"}}, \"header\": {\"fill\": {\"color\": \"#C8D4E3\"}, \"line\": {\"color\": \"white\"}}, \"type\": \"table\"}]}, \"layout\": {\"annotationdefaults\": {\"arrowcolor\": \"#2a3f5f\", \"arrowhead\": 0, \"arrowwidth\": 1}, \"coloraxis\": {\"colorbar\": {\"outlinewidth\": 0, \"ticks\": \"\"}}, \"colorscale\": {\"diverging\": [[0, \"#8e0152\"], [0.1, \"#c51b7d\"], [0.2, \"#de77ae\"], [0.3, \"#f1b6da\"], [0.4, \"#fde0ef\"], [0.5, \"#f7f7f7\"], [0.6, \"#e6f5d0\"], [0.7, \"#b8e186\"], [0.8, \"#7fbc41\"], [0.9, \"#4d9221\"], [1, \"#276419\"]], \"sequential\": [[0.0, \"#0d0887\"], [0.1111111111111111, \"#46039f\"], [0.2222222222222222, \"#7201a8\"], [0.3333333333333333, \"#9c179e\"], [0.4444444444444444, \"#bd3786\"], [0.5555555555555556, \"#d8576b\"], [0.6666666666666666, \"#ed7953\"], [0.7777777777777778, \"#fb9f3a\"], [0.8888888888888888, \"#fdca26\"], [1.0, \"#f0f921\"]], \"sequentialminus\": [[0.0, \"#0d0887\"], [0.1111111111111111, \"#46039f\"], [0.2222222222222222, \"#7201a8\"], [0.3333333333333333, \"#9c179e\"], [0.4444444444444444, \"#bd3786\"], [0.5555555555555556, \"#d8576b\"], [0.6666666666666666, \"#ed7953\"], [0.7777777777777778, \"#fb9f3a\"], [0.8888888888888888, \"#fdca26\"], [1.0, \"#f0f921\"]]}, \"colorway\": [\"#636efa\", \"#EF553B\", \"#00cc96\", \"#ab63fa\", \"#FFA15A\", \"#19d3f3\", \"#FF6692\", \"#B6E880\", \"#FF97FF\", \"#FECB52\"], \"font\": {\"color\": \"#2a3f5f\"}, \"geo\": {\"bgcolor\": \"white\", \"lakecolor\": \"white\", \"landcolor\": \"#E5ECF6\", \"showlakes\": true, \"showland\": true, \"subunitcolor\": \"white\"}, \"hoverlabel\": {\"align\": \"left\"}, \"hovermode\": \"closest\", \"mapbox\": {\"style\": \"light\"}, \"paper_bgcolor\": \"white\", \"plot_bgcolor\": \"#E5ECF6\", \"polar\": {\"angularaxis\": {\"gridcolor\": \"white\", \"linecolor\": \"white\", \"ticks\": \"\"}, \"bgcolor\": \"#E5ECF6\", \"radialaxis\": {\"gridcolor\": \"white\", \"linecolor\": \"white\", \"ticks\": \"\"}}, \"scene\": {\"xaxis\": {\"backgroundcolor\": \"#E5ECF6\", \"gridcolor\": \"white\", \"gridwidth\": 2, \"linecolor\": \"white\", \"showbackground\": true, \"ticks\": \"\", \"zerolinecolor\": \"white\"}, \"yaxis\": {\"backgroundcolor\": \"#E5ECF6\", \"gridcolor\": \"white\", \"gridwidth\": 2, \"linecolor\": \"white\", \"showbackground\": true, \"ticks\": \"\", \"zerolinecolor\": \"white\"}, \"zaxis\": {\"backgroundcolor\": \"#E5ECF6\", \"gridcolor\": \"white\", \"gridwidth\": 2, \"linecolor\": \"white\", \"showbackground\": true, \"ticks\": \"\", \"zerolinecolor\": \"white\"}}, \"shapedefaults\": {\"line\": {\"color\": \"#2a3f5f\"}}, \"ternary\": {\"aaxis\": {\"gridcolor\": \"white\", \"linecolor\": \"white\", \"ticks\": \"\"}, \"baxis\": {\"gridcolor\": \"white\", \"linecolor\": \"white\", \"ticks\": \"\"}, \"bgcolor\": \"#E5ECF6\", \"caxis\": {\"gridcolor\": \"white\", \"linecolor\": \"white\", \"ticks\": \"\"}}, \"title\": {\"x\": 0.05}, \"xaxis\": {\"automargin\": true, \"gridcolor\": \"white\", \"linecolor\": \"white\", \"ticks\": \"\", \"title\": {\"standoff\": 15}, \"zerolinecolor\": \"white\", \"zerolinewidth\": 2}, \"yaxis\": {\"automargin\": true, \"gridcolor\": \"white\", \"linecolor\": \"white\", \"ticks\": \"\", \"title\": {\"standoff\": 15}, \"zerolinecolor\": \"white\", \"zerolinewidth\": 2}}}, \"xaxis\": {\"anchor\": \"y\", \"domain\": [0.0, 1.0], \"title\": {\"text\": \"index_col\"}}, \"yaxis\": {\"anchor\": \"x\", \"domain\": [0.0, 1.0], \"title\": {\"text\": \"importance\"}}},\n",
       "                        {\"responsive\": true}\n",
       "                    ).then(function(){\n",
       "                            \n",
       "var gd = document.getElementById('40ea67fb-430f-40c0-8de2-51db72d8080a');\n",
       "var x = new MutationObserver(function (mutations, observer) {{\n",
       "        var display = window.getComputedStyle(gd).display;\n",
       "        if (!display || display === 'none') {{\n",
       "            console.log([gd, 'removed!']);\n",
       "            Plotly.purge(gd);\n",
       "            observer.disconnect();\n",
       "        }}\n",
       "}});\n",
       "\n",
       "// Listen for the removal of the full notebook cells\n",
       "var notebookContainer = gd.closest('#notebook-container');\n",
       "if (notebookContainer) {{\n",
       "    x.observe(notebookContainer, {childList: true});\n",
       "}}\n",
       "\n",
       "// Listen for the clearing of the current output cell\n",
       "var outputEl = gd.closest('.output');\n",
       "if (outputEl) {{\n",
       "    x.observe(outputEl, {childList: true});\n",
       "}}\n",
       "\n",
       "                        })\n",
       "                };\n",
       "                });\n",
       "            </script>\n",
       "        </div>"
      ]
     },
     "metadata": {},
     "output_type": "display_data"
    }
   ],
   "source": [
    "import plotly.express as px\n",
    "fig = px.bar(feature_importances, x= 'index_col' , y= 'importance' )\n",
    "fig.show()"
   ]
  },
  {
   "cell_type": "code",
   "execution_count": 139,
   "metadata": {},
   "outputs": [],
   "source": [
    "#Selection of most important features\n",
    "data = data.iloc[:, [0,2,6,12,13,15,17,19,22,23,71,72,75,76,96,97,98,99,102,103,110,111,112,113,116,117,118,119,132,133,134,135,137,138,139,142,143,144]]"
   ]
  },
  {
   "cell_type": "code",
   "execution_count": 140,
   "metadata": {},
   "outputs": [
    {
     "data": {
      "text/html": [
       "<div>\n",
       "<style scoped>\n",
       "    .dataframe tbody tr th:only-of-type {\n",
       "        vertical-align: middle;\n",
       "    }\n",
       "\n",
       "    .dataframe tbody tr th {\n",
       "        vertical-align: top;\n",
       "    }\n",
       "\n",
       "    .dataframe thead th {\n",
       "        text-align: right;\n",
       "    }\n",
       "</style>\n",
       "<table border=\"1\" class=\"dataframe\">\n",
       "  <thead>\n",
       "    <tr style=\"text-align: right;\">\n",
       "      <th></th>\n",
       "      <th>chin_0_x</th>\n",
       "      <th>chin_1_x</th>\n",
       "      <th>chin_3_x</th>\n",
       "      <th>chin_6_x</th>\n",
       "      <th>chin_6_y</th>\n",
       "      <th>chin_7_y</th>\n",
       "      <th>chin_8_y</th>\n",
       "      <th>chin_9_y</th>\n",
       "      <th>chin_11_x</th>\n",
       "      <th>chin_11_y</th>\n",
       "      <th>...</th>\n",
       "      <th>bottom_lip_6_x</th>\n",
       "      <th>bottom_lip_6_y</th>\n",
       "      <th>bottom_lip_7_x</th>\n",
       "      <th>bottom_lip_7_y</th>\n",
       "      <th>bottom_lip_8_y</th>\n",
       "      <th>bottom_lip_9_x</th>\n",
       "      <th>bottom_lip_9_y</th>\n",
       "      <th>bottom_lip_11_x</th>\n",
       "      <th>bottom_lip_11_y</th>\n",
       "      <th>Trisomy 21</th>\n",
       "    </tr>\n",
       "  </thead>\n",
       "  <tbody>\n",
       "    <tr>\n",
       "      <th>0</th>\n",
       "      <td>81</td>\n",
       "      <td>81</td>\n",
       "      <td>85</td>\n",
       "      <td>105</td>\n",
       "      <td>178</td>\n",
       "      <td>186</td>\n",
       "      <td>188</td>\n",
       "      <td>186</td>\n",
       "      <td>155</td>\n",
       "      <td>168</td>\n",
       "      <td>...</td>\n",
       "      <td>110</td>\n",
       "      <td>156</td>\n",
       "      <td>112</td>\n",
       "      <td>157</td>\n",
       "      <td>157</td>\n",
       "      <td>127</td>\n",
       "      <td>158</td>\n",
       "      <td>141</td>\n",
       "      <td>157</td>\n",
       "      <td>0</td>\n",
       "    </tr>\n",
       "    <tr>\n",
       "      <th>1</th>\n",
       "      <td>64</td>\n",
       "      <td>65</td>\n",
       "      <td>70</td>\n",
       "      <td>96</td>\n",
       "      <td>197</td>\n",
       "      <td>202</td>\n",
       "      <td>202</td>\n",
       "      <td>197</td>\n",
       "      <td>158</td>\n",
       "      <td>178</td>\n",
       "      <td>...</td>\n",
       "      <td>99</td>\n",
       "      <td>160</td>\n",
       "      <td>102</td>\n",
       "      <td>161</td>\n",
       "      <td>170</td>\n",
       "      <td>124</td>\n",
       "      <td>170</td>\n",
       "      <td>142</td>\n",
       "      <td>158</td>\n",
       "      <td>0</td>\n",
       "    </tr>\n",
       "    <tr>\n",
       "      <th>2</th>\n",
       "      <td>86</td>\n",
       "      <td>85</td>\n",
       "      <td>87</td>\n",
       "      <td>103</td>\n",
       "      <td>178</td>\n",
       "      <td>184</td>\n",
       "      <td>186</td>\n",
       "      <td>184</td>\n",
       "      <td>156</td>\n",
       "      <td>171</td>\n",
       "      <td>...</td>\n",
       "      <td>107</td>\n",
       "      <td>158</td>\n",
       "      <td>109</td>\n",
       "      <td>158</td>\n",
       "      <td>158</td>\n",
       "      <td>122</td>\n",
       "      <td>158</td>\n",
       "      <td>137</td>\n",
       "      <td>159</td>\n",
       "      <td>0</td>\n",
       "    </tr>\n",
       "    <tr>\n",
       "      <th>3</th>\n",
       "      <td>74</td>\n",
       "      <td>75</td>\n",
       "      <td>80</td>\n",
       "      <td>102</td>\n",
       "      <td>184</td>\n",
       "      <td>190</td>\n",
       "      <td>191</td>\n",
       "      <td>188</td>\n",
       "      <td>160</td>\n",
       "      <td>171</td>\n",
       "      <td>...</td>\n",
       "      <td>104</td>\n",
       "      <td>156</td>\n",
       "      <td>106</td>\n",
       "      <td>157</td>\n",
       "      <td>163</td>\n",
       "      <td>126</td>\n",
       "      <td>164</td>\n",
       "      <td>144</td>\n",
       "      <td>156</td>\n",
       "      <td>0</td>\n",
       "    </tr>\n",
       "    <tr>\n",
       "      <th>4</th>\n",
       "      <td>66</td>\n",
       "      <td>68</td>\n",
       "      <td>75</td>\n",
       "      <td>104</td>\n",
       "      <td>189</td>\n",
       "      <td>194</td>\n",
       "      <td>194</td>\n",
       "      <td>190</td>\n",
       "      <td>158</td>\n",
       "      <td>172</td>\n",
       "      <td>...</td>\n",
       "      <td>106</td>\n",
       "      <td>160</td>\n",
       "      <td>108</td>\n",
       "      <td>161</td>\n",
       "      <td>165</td>\n",
       "      <td>128</td>\n",
       "      <td>165</td>\n",
       "      <td>143</td>\n",
       "      <td>158</td>\n",
       "      <td>0</td>\n",
       "    </tr>\n",
       "    <tr>\n",
       "      <th>...</th>\n",
       "      <td>...</td>\n",
       "      <td>...</td>\n",
       "      <td>...</td>\n",
       "      <td>...</td>\n",
       "      <td>...</td>\n",
       "      <td>...</td>\n",
       "      <td>...</td>\n",
       "      <td>...</td>\n",
       "      <td>...</td>\n",
       "      <td>...</td>\n",
       "      <td>...</td>\n",
       "      <td>...</td>\n",
       "      <td>...</td>\n",
       "      <td>...</td>\n",
       "      <td>...</td>\n",
       "      <td>...</td>\n",
       "      <td>...</td>\n",
       "      <td>...</td>\n",
       "      <td>...</td>\n",
       "      <td>...</td>\n",
       "      <td>...</td>\n",
       "    </tr>\n",
       "    <tr>\n",
       "      <th>13908</th>\n",
       "      <td>95</td>\n",
       "      <td>95</td>\n",
       "      <td>97</td>\n",
       "      <td>112</td>\n",
       "      <td>88</td>\n",
       "      <td>90</td>\n",
       "      <td>91</td>\n",
       "      <td>90</td>\n",
       "      <td>134</td>\n",
       "      <td>81</td>\n",
       "      <td>...</td>\n",
       "      <td>117</td>\n",
       "      <td>76</td>\n",
       "      <td>118</td>\n",
       "      <td>76</td>\n",
       "      <td>77</td>\n",
       "      <td>127</td>\n",
       "      <td>77</td>\n",
       "      <td>131</td>\n",
       "      <td>77</td>\n",
       "      <td>1</td>\n",
       "    </tr>\n",
       "    <tr>\n",
       "      <th>13909</th>\n",
       "      <td>267</td>\n",
       "      <td>268</td>\n",
       "      <td>272</td>\n",
       "      <td>286</td>\n",
       "      <td>161</td>\n",
       "      <td>161</td>\n",
       "      <td>160</td>\n",
       "      <td>158</td>\n",
       "      <td>310</td>\n",
       "      <td>151</td>\n",
       "      <td>...</td>\n",
       "      <td>284</td>\n",
       "      <td>151</td>\n",
       "      <td>285</td>\n",
       "      <td>150</td>\n",
       "      <td>149</td>\n",
       "      <td>293</td>\n",
       "      <td>148</td>\n",
       "      <td>300</td>\n",
       "      <td>145</td>\n",
       "      <td>1</td>\n",
       "    </tr>\n",
       "    <tr>\n",
       "      <th>13910</th>\n",
       "      <td>166</td>\n",
       "      <td>166</td>\n",
       "      <td>167</td>\n",
       "      <td>182</td>\n",
       "      <td>151</td>\n",
       "      <td>155</td>\n",
       "      <td>157</td>\n",
       "      <td>156</td>\n",
       "      <td>234</td>\n",
       "      <td>148</td>\n",
       "      <td>...</td>\n",
       "      <td>188</td>\n",
       "      <td>128</td>\n",
       "      <td>190</td>\n",
       "      <td>129</td>\n",
       "      <td>133</td>\n",
       "      <td>205</td>\n",
       "      <td>133</td>\n",
       "      <td>221</td>\n",
       "      <td>131</td>\n",
       "      <td>1</td>\n",
       "    </tr>\n",
       "    <tr>\n",
       "      <th>13911</th>\n",
       "      <td>170</td>\n",
       "      <td>168</td>\n",
       "      <td>168</td>\n",
       "      <td>185</td>\n",
       "      <td>173</td>\n",
       "      <td>179</td>\n",
       "      <td>183</td>\n",
       "      <td>183</td>\n",
       "      <td>250</td>\n",
       "      <td>174</td>\n",
       "      <td>...</td>\n",
       "      <td>193</td>\n",
       "      <td>145</td>\n",
       "      <td>195</td>\n",
       "      <td>146</td>\n",
       "      <td>155</td>\n",
       "      <td>214</td>\n",
       "      <td>157</td>\n",
       "      <td>236</td>\n",
       "      <td>152</td>\n",
       "      <td>1</td>\n",
       "    </tr>\n",
       "    <tr>\n",
       "      <th>13912</th>\n",
       "      <td>129</td>\n",
       "      <td>129</td>\n",
       "      <td>131</td>\n",
       "      <td>161</td>\n",
       "      <td>193</td>\n",
       "      <td>199</td>\n",
       "      <td>202</td>\n",
       "      <td>200</td>\n",
       "      <td>230</td>\n",
       "      <td>186</td>\n",
       "      <td>...</td>\n",
       "      <td>162</td>\n",
       "      <td>162</td>\n",
       "      <td>165</td>\n",
       "      <td>163</td>\n",
       "      <td>169</td>\n",
       "      <td>189</td>\n",
       "      <td>170</td>\n",
       "      <td>213</td>\n",
       "      <td>164</td>\n",
       "      <td>1</td>\n",
       "    </tr>\n",
       "  </tbody>\n",
       "</table>\n",
       "<p>13913 rows × 38 columns</p>\n",
       "</div>"
      ],
      "text/plain": [
       "       chin_0_x  chin_1_x  chin_3_x  chin_6_x  chin_6_y  chin_7_y  chin_8_y  \\\n",
       "0            81        81        85       105       178       186       188   \n",
       "1            64        65        70        96       197       202       202   \n",
       "2            86        85        87       103       178       184       186   \n",
       "3            74        75        80       102       184       190       191   \n",
       "4            66        68        75       104       189       194       194   \n",
       "...         ...       ...       ...       ...       ...       ...       ...   \n",
       "13908        95        95        97       112        88        90        91   \n",
       "13909       267       268       272       286       161       161       160   \n",
       "13910       166       166       167       182       151       155       157   \n",
       "13911       170       168       168       185       173       179       183   \n",
       "13912       129       129       131       161       193       199       202   \n",
       "\n",
       "       chin_9_y  chin_11_x  chin_11_y  ...  bottom_lip_6_x  bottom_lip_6_y  \\\n",
       "0           186        155        168  ...             110             156   \n",
       "1           197        158        178  ...              99             160   \n",
       "2           184        156        171  ...             107             158   \n",
       "3           188        160        171  ...             104             156   \n",
       "4           190        158        172  ...             106             160   \n",
       "...         ...        ...        ...  ...             ...             ...   \n",
       "13908        90        134         81  ...             117              76   \n",
       "13909       158        310        151  ...             284             151   \n",
       "13910       156        234        148  ...             188             128   \n",
       "13911       183        250        174  ...             193             145   \n",
       "13912       200        230        186  ...             162             162   \n",
       "\n",
       "       bottom_lip_7_x  bottom_lip_7_y  bottom_lip_8_y  bottom_lip_9_x  \\\n",
       "0                 112             157             157             127   \n",
       "1                 102             161             170             124   \n",
       "2                 109             158             158             122   \n",
       "3                 106             157             163             126   \n",
       "4                 108             161             165             128   \n",
       "...               ...             ...             ...             ...   \n",
       "13908             118              76              77             127   \n",
       "13909             285             150             149             293   \n",
       "13910             190             129             133             205   \n",
       "13911             195             146             155             214   \n",
       "13912             165             163             169             189   \n",
       "\n",
       "       bottom_lip_9_y  bottom_lip_11_x  bottom_lip_11_y  Trisomy 21  \n",
       "0                 158              141              157           0  \n",
       "1                 170              142              158           0  \n",
       "2                 158              137              159           0  \n",
       "3                 164              144              156           0  \n",
       "4                 165              143              158           0  \n",
       "...               ...              ...              ...         ...  \n",
       "13908              77              131               77           1  \n",
       "13909             148              300              145           1  \n",
       "13910             133              221              131           1  \n",
       "13911             157              236              152           1  \n",
       "13912             170              213              164           1  \n",
       "\n",
       "[13913 rows x 38 columns]"
      ]
     },
     "execution_count": 140,
     "metadata": {},
     "output_type": "execute_result"
    }
   ],
   "source": [
    "data"
   ]
  },
  {
   "cell_type": "code",
   "execution_count": 141,
   "metadata": {},
   "outputs": [],
   "source": [
    "data = data.sample(frac=1).reset_index(drop=True)"
   ]
  },
  {
   "cell_type": "code",
   "execution_count": 142,
   "metadata": {},
   "outputs": [
    {
     "data": {
      "text/html": [
       "<div>\n",
       "<style scoped>\n",
       "    .dataframe tbody tr th:only-of-type {\n",
       "        vertical-align: middle;\n",
       "    }\n",
       "\n",
       "    .dataframe tbody tr th {\n",
       "        vertical-align: top;\n",
       "    }\n",
       "\n",
       "    .dataframe thead th {\n",
       "        text-align: right;\n",
       "    }\n",
       "</style>\n",
       "<table border=\"1\" class=\"dataframe\">\n",
       "  <thead>\n",
       "    <tr style=\"text-align: right;\">\n",
       "      <th></th>\n",
       "      <th>chin_0_x</th>\n",
       "      <th>chin_1_x</th>\n",
       "      <th>chin_3_x</th>\n",
       "      <th>chin_6_x</th>\n",
       "      <th>chin_6_y</th>\n",
       "      <th>chin_7_y</th>\n",
       "      <th>chin_8_y</th>\n",
       "      <th>chin_9_y</th>\n",
       "      <th>chin_11_x</th>\n",
       "      <th>chin_11_y</th>\n",
       "      <th>...</th>\n",
       "      <th>bottom_lip_6_x</th>\n",
       "      <th>bottom_lip_6_y</th>\n",
       "      <th>bottom_lip_7_x</th>\n",
       "      <th>bottom_lip_7_y</th>\n",
       "      <th>bottom_lip_8_y</th>\n",
       "      <th>bottom_lip_9_x</th>\n",
       "      <th>bottom_lip_9_y</th>\n",
       "      <th>bottom_lip_11_x</th>\n",
       "      <th>bottom_lip_11_y</th>\n",
       "      <th>Trisomy 21</th>\n",
       "    </tr>\n",
       "  </thead>\n",
       "  <tbody>\n",
       "    <tr>\n",
       "      <th>0</th>\n",
       "      <td>74</td>\n",
       "      <td>76</td>\n",
       "      <td>81</td>\n",
       "      <td>106</td>\n",
       "      <td>191</td>\n",
       "      <td>195</td>\n",
       "      <td>195</td>\n",
       "      <td>192</td>\n",
       "      <td>166</td>\n",
       "      <td>177</td>\n",
       "      <td>...</td>\n",
       "      <td>113</td>\n",
       "      <td>166</td>\n",
       "      <td>116</td>\n",
       "      <td>165</td>\n",
       "      <td>164</td>\n",
       "      <td>131</td>\n",
       "      <td>163</td>\n",
       "      <td>145</td>\n",
       "      <td>162</td>\n",
       "      <td>0</td>\n",
       "    </tr>\n",
       "    <tr>\n",
       "      <th>1</th>\n",
       "      <td>67</td>\n",
       "      <td>69</td>\n",
       "      <td>75</td>\n",
       "      <td>104</td>\n",
       "      <td>182</td>\n",
       "      <td>190</td>\n",
       "      <td>191</td>\n",
       "      <td>186</td>\n",
       "      <td>155</td>\n",
       "      <td>166</td>\n",
       "      <td>...</td>\n",
       "      <td>107</td>\n",
       "      <td>157</td>\n",
       "      <td>111</td>\n",
       "      <td>158</td>\n",
       "      <td>160</td>\n",
       "      <td>129</td>\n",
       "      <td>160</td>\n",
       "      <td>142</td>\n",
       "      <td>156</td>\n",
       "      <td>0</td>\n",
       "    </tr>\n",
       "    <tr>\n",
       "      <th>2</th>\n",
       "      <td>86</td>\n",
       "      <td>88</td>\n",
       "      <td>91</td>\n",
       "      <td>107</td>\n",
       "      <td>175</td>\n",
       "      <td>181</td>\n",
       "      <td>183</td>\n",
       "      <td>181</td>\n",
       "      <td>153</td>\n",
       "      <td>166</td>\n",
       "      <td>...</td>\n",
       "      <td>108</td>\n",
       "      <td>154</td>\n",
       "      <td>111</td>\n",
       "      <td>154</td>\n",
       "      <td>160</td>\n",
       "      <td>126</td>\n",
       "      <td>161</td>\n",
       "      <td>142</td>\n",
       "      <td>153</td>\n",
       "      <td>0</td>\n",
       "    </tr>\n",
       "    <tr>\n",
       "      <th>3</th>\n",
       "      <td>76</td>\n",
       "      <td>77</td>\n",
       "      <td>79</td>\n",
       "      <td>101</td>\n",
       "      <td>182</td>\n",
       "      <td>187</td>\n",
       "      <td>186</td>\n",
       "      <td>185</td>\n",
       "      <td>164</td>\n",
       "      <td>172</td>\n",
       "      <td>...</td>\n",
       "      <td>107</td>\n",
       "      <td>159</td>\n",
       "      <td>110</td>\n",
       "      <td>159</td>\n",
       "      <td>158</td>\n",
       "      <td>126</td>\n",
       "      <td>158</td>\n",
       "      <td>142</td>\n",
       "      <td>158</td>\n",
       "      <td>0</td>\n",
       "    </tr>\n",
       "    <tr>\n",
       "      <th>4</th>\n",
       "      <td>81</td>\n",
       "      <td>81</td>\n",
       "      <td>84</td>\n",
       "      <td>101</td>\n",
       "      <td>183</td>\n",
       "      <td>191</td>\n",
       "      <td>193</td>\n",
       "      <td>192</td>\n",
       "      <td>165</td>\n",
       "      <td>177</td>\n",
       "      <td>...</td>\n",
       "      <td>103</td>\n",
       "      <td>152</td>\n",
       "      <td>105</td>\n",
       "      <td>152</td>\n",
       "      <td>160</td>\n",
       "      <td>122</td>\n",
       "      <td>161</td>\n",
       "      <td>145</td>\n",
       "      <td>152</td>\n",
       "      <td>0</td>\n",
       "    </tr>\n",
       "    <tr>\n",
       "      <th>...</th>\n",
       "      <td>...</td>\n",
       "      <td>...</td>\n",
       "      <td>...</td>\n",
       "      <td>...</td>\n",
       "      <td>...</td>\n",
       "      <td>...</td>\n",
       "      <td>...</td>\n",
       "      <td>...</td>\n",
       "      <td>...</td>\n",
       "      <td>...</td>\n",
       "      <td>...</td>\n",
       "      <td>...</td>\n",
       "      <td>...</td>\n",
       "      <td>...</td>\n",
       "      <td>...</td>\n",
       "      <td>...</td>\n",
       "      <td>...</td>\n",
       "      <td>...</td>\n",
       "      <td>...</td>\n",
       "      <td>...</td>\n",
       "      <td>...</td>\n",
       "    </tr>\n",
       "    <tr>\n",
       "      <th>13908</th>\n",
       "      <td>80</td>\n",
       "      <td>82</td>\n",
       "      <td>87</td>\n",
       "      <td>105</td>\n",
       "      <td>186</td>\n",
       "      <td>190</td>\n",
       "      <td>190</td>\n",
       "      <td>188</td>\n",
       "      <td>157</td>\n",
       "      <td>178</td>\n",
       "      <td>...</td>\n",
       "      <td>111</td>\n",
       "      <td>161</td>\n",
       "      <td>114</td>\n",
       "      <td>160</td>\n",
       "      <td>158</td>\n",
       "      <td>126</td>\n",
       "      <td>158</td>\n",
       "      <td>139</td>\n",
       "      <td>159</td>\n",
       "      <td>0</td>\n",
       "    </tr>\n",
       "    <tr>\n",
       "      <th>13909</th>\n",
       "      <td>110</td>\n",
       "      <td>108</td>\n",
       "      <td>109</td>\n",
       "      <td>114</td>\n",
       "      <td>180</td>\n",
       "      <td>189</td>\n",
       "      <td>193</td>\n",
       "      <td>193</td>\n",
       "      <td>167</td>\n",
       "      <td>181</td>\n",
       "      <td>...</td>\n",
       "      <td>114</td>\n",
       "      <td>164</td>\n",
       "      <td>116</td>\n",
       "      <td>163</td>\n",
       "      <td>164</td>\n",
       "      <td>117</td>\n",
       "      <td>164</td>\n",
       "      <td>133</td>\n",
       "      <td>161</td>\n",
       "      <td>0</td>\n",
       "    </tr>\n",
       "    <tr>\n",
       "      <th>13910</th>\n",
       "      <td>87</td>\n",
       "      <td>88</td>\n",
       "      <td>92</td>\n",
       "      <td>108</td>\n",
       "      <td>184</td>\n",
       "      <td>192</td>\n",
       "      <td>194</td>\n",
       "      <td>192</td>\n",
       "      <td>157</td>\n",
       "      <td>176</td>\n",
       "      <td>...</td>\n",
       "      <td>109</td>\n",
       "      <td>163</td>\n",
       "      <td>112</td>\n",
       "      <td>163</td>\n",
       "      <td>174</td>\n",
       "      <td>124</td>\n",
       "      <td>175</td>\n",
       "      <td>142</td>\n",
       "      <td>164</td>\n",
       "      <td>0</td>\n",
       "    </tr>\n",
       "    <tr>\n",
       "      <th>13911</th>\n",
       "      <td>72</td>\n",
       "      <td>74</td>\n",
       "      <td>78</td>\n",
       "      <td>102</td>\n",
       "      <td>191</td>\n",
       "      <td>197</td>\n",
       "      <td>198</td>\n",
       "      <td>195</td>\n",
       "      <td>159</td>\n",
       "      <td>180</td>\n",
       "      <td>...</td>\n",
       "      <td>106</td>\n",
       "      <td>159</td>\n",
       "      <td>109</td>\n",
       "      <td>158</td>\n",
       "      <td>162</td>\n",
       "      <td>125</td>\n",
       "      <td>163</td>\n",
       "      <td>140</td>\n",
       "      <td>159</td>\n",
       "      <td>0</td>\n",
       "    </tr>\n",
       "    <tr>\n",
       "      <th>13912</th>\n",
       "      <td>93</td>\n",
       "      <td>93</td>\n",
       "      <td>97</td>\n",
       "      <td>113</td>\n",
       "      <td>174</td>\n",
       "      <td>184</td>\n",
       "      <td>188</td>\n",
       "      <td>188</td>\n",
       "      <td>168</td>\n",
       "      <td>175</td>\n",
       "      <td>...</td>\n",
       "      <td>114</td>\n",
       "      <td>155</td>\n",
       "      <td>117</td>\n",
       "      <td>156</td>\n",
       "      <td>159</td>\n",
       "      <td>127</td>\n",
       "      <td>161</td>\n",
       "      <td>146</td>\n",
       "      <td>157</td>\n",
       "      <td>0</td>\n",
       "    </tr>\n",
       "  </tbody>\n",
       "</table>\n",
       "<p>13913 rows × 38 columns</p>\n",
       "</div>"
      ],
      "text/plain": [
       "       chin_0_x  chin_1_x  chin_3_x  chin_6_x  chin_6_y  chin_7_y  chin_8_y  \\\n",
       "0            74        76        81       106       191       195       195   \n",
       "1            67        69        75       104       182       190       191   \n",
       "2            86        88        91       107       175       181       183   \n",
       "3            76        77        79       101       182       187       186   \n",
       "4            81        81        84       101       183       191       193   \n",
       "...         ...       ...       ...       ...       ...       ...       ...   \n",
       "13908        80        82        87       105       186       190       190   \n",
       "13909       110       108       109       114       180       189       193   \n",
       "13910        87        88        92       108       184       192       194   \n",
       "13911        72        74        78       102       191       197       198   \n",
       "13912        93        93        97       113       174       184       188   \n",
       "\n",
       "       chin_9_y  chin_11_x  chin_11_y  ...  bottom_lip_6_x  bottom_lip_6_y  \\\n",
       "0           192        166        177  ...             113             166   \n",
       "1           186        155        166  ...             107             157   \n",
       "2           181        153        166  ...             108             154   \n",
       "3           185        164        172  ...             107             159   \n",
       "4           192        165        177  ...             103             152   \n",
       "...         ...        ...        ...  ...             ...             ...   \n",
       "13908       188        157        178  ...             111             161   \n",
       "13909       193        167        181  ...             114             164   \n",
       "13910       192        157        176  ...             109             163   \n",
       "13911       195        159        180  ...             106             159   \n",
       "13912       188        168        175  ...             114             155   \n",
       "\n",
       "       bottom_lip_7_x  bottom_lip_7_y  bottom_lip_8_y  bottom_lip_9_x  \\\n",
       "0                 116             165             164             131   \n",
       "1                 111             158             160             129   \n",
       "2                 111             154             160             126   \n",
       "3                 110             159             158             126   \n",
       "4                 105             152             160             122   \n",
       "...               ...             ...             ...             ...   \n",
       "13908             114             160             158             126   \n",
       "13909             116             163             164             117   \n",
       "13910             112             163             174             124   \n",
       "13911             109             158             162             125   \n",
       "13912             117             156             159             127   \n",
       "\n",
       "       bottom_lip_9_y  bottom_lip_11_x  bottom_lip_11_y  Trisomy 21  \n",
       "0                 163              145              162           0  \n",
       "1                 160              142              156           0  \n",
       "2                 161              142              153           0  \n",
       "3                 158              142              158           0  \n",
       "4                 161              145              152           0  \n",
       "...               ...              ...              ...         ...  \n",
       "13908             158              139              159           0  \n",
       "13909             164              133              161           0  \n",
       "13910             175              142              164           0  \n",
       "13911             163              140              159           0  \n",
       "13912             161              146              157           0  \n",
       "\n",
       "[13913 rows x 38 columns]"
      ]
     },
     "execution_count": 142,
     "metadata": {},
     "output_type": "execute_result"
    }
   ],
   "source": [
    "data"
   ]
  },
  {
   "cell_type": "code",
   "execution_count": 143,
   "metadata": {},
   "outputs": [],
   "source": [
    "from sklearn.model_selection import train_test_split\n",
    "\n",
    "\n",
    "X = data.drop('Trisomy 21', axis=1)\n",
    "y = data['Trisomy 21']\n",
    "# implementing train-test-split\n",
    "X_train, X_test, y_train, y_test = train_test_split(X, y, test_size=0.33, random_state=66)\n",
    "from sklearn import model_selection\n",
    "# random forest model creation\n",
    "rfc = RandomForestClassifier()\n",
    "rfc.fit(X_train,y_train)\n",
    "# predictions\n",
    "rfc_predict = rfc.predict(X_test)"
   ]
  },
  {
   "cell_type": "code",
   "execution_count": 151,
   "metadata": {},
   "outputs": [],
   "source": [
    "from matplotlib import pyplot as plt\n",
    "\n",
    "def plot_confusion_matrix(cm, classes,\n",
    "                          normalize=False,\n",
    "                          title='Confusion matrix',\n",
    "                          cmap=plt.cm.Blues):\n",
    "    \"\"\"\n",
    "    This function prints and plots the confusion matrix.\n",
    "    Normalization can be applied by setting `normalize=True`.\n",
    "    \"\"\"\n",
    "    import itertools\n",
    "    if normalize:\n",
    "        cm = cm.astype('float') / cm.sum(axis=1)[:, np.newaxis]\n",
    "        print(\"Normalized confusion matrix\")\n",
    "    else:\n",
    "        print('Confusion matrix, without normalization')\n",
    "\n",
    "    print(cm)\n",
    "\n",
    "    plt.imshow(cm, interpolation='nearest', cmap=cmap)\n",
    "    plt.title(title)\n",
    "    plt.colorbar()\n",
    "    tick_marks = np.arange(len(classes))\n",
    "    plt.xticks(tick_marks, classes, rotation=45)\n",
    "    plt.yticks(tick_marks, classes)\n",
    "\n",
    "    fmt = '.2f' if normalize else 'd'\n",
    "    thresh = cm.max() / 2.\n",
    "    for i, j in itertools.product(range(cm.shape[0]), range(cm.shape[1])):\n",
    "        plt.text(j, i, format(cm[i, j], fmt),\n",
    "                 horizontalalignment=\"center\",\n",
    "                 color=\"white\" if cm[i, j] > thresh else \"black\")\n",
    "\n",
    "    plt.ylabel('True label')\n",
    "    plt.xlabel('Predicted label')\n",
    "    plt.tight_layout()"
   ]
  },
  {
   "cell_type": "code",
   "execution_count": 153,
   "metadata": {},
   "outputs": [
    {
     "name": "stdout",
     "output_type": "stream",
     "text": [
      "Confusion matrix, without normalization\n",
      "[[4323   18]\n",
      " [   3  248]]\n"
     ]
    },
    {
     "data": {
      "image/png": "[encoded data removed]",
      "text/plain": [
       "<Figure size 432x288 with 2 Axes>"
      ]
     },
     "metadata": {
      "needs_background": "light"
     },
     "output_type": "display_data"
    }
   ],
   "source": [
    "from sklearn.metrics import classification_report, confusion_matrix\n",
    "\n",
    "\n",
    "\n",
    "cnf_matrix = confusion_matrix(y_test, rfc_predict, labels=[0,1])\n",
    "np.set_printoptions(precision=2)\n",
    "\n",
    "# Plot non-normalized confusion matrix\n",
    "plt.figure()\n",
    "plot_confusion_matrix(cnf_matrix, classes=['Normal','Trisomy 21'],\n",
    "                      title='Confusion matrix without normalization')"
   ]
  },
  {
   "cell_type": "code",
   "execution_count": 146,
   "metadata": {},
   "outputs": [
    {
     "name": "stdout",
     "output_type": "stream",
     "text": [
      "              precision    recall  f1-score   support\n",
      "\n",
      "      Normal       1.00      1.00      1.00      4341\n",
      "  Trisomy 21       0.93      0.99      0.96       251\n",
      "\n",
      "    accuracy                           1.00      4592\n",
      "   macro avg       0.97      0.99      0.98      4592\n",
      "weighted avg       1.00      1.00      1.00      4592\n",
      "\n"
     ]
    }
   ],
   "source": [
    "target_names = ['Normal','Trisomy 21']\n",
    "print(classification_report(y_test, rfc_predict, target_names=target_names))"
   ]
  },
  {
   "cell_type": "code",
   "execution_count": 150,
   "metadata": {},
   "outputs": [
    {
     "name": "stdout",
     "output_type": "stream",
     "text": [
      "auc = 0.991950649372104\n"
     ]
    },
    {
     "data": {
      "image/png": "[encoded data removed]",
      "text/plain": [
       "<Figure size 432x288 with 1 Axes>"
      ]
     },
     "metadata": {
      "needs_background": "light"
     },
     "output_type": "display_data"
    }
   ],
   "source": [
    "from sklearn.metrics import roc_curve, auc\n",
    "from sklearn.metrics import roc_auc_score\n",
    "from sklearn import preprocessing\n",
    "from matplotlib import pyplot as plt\n",
    "\n",
    "fpr, tpr, thresholds = roc_curve(y_test, rfc_predict)\n",
    "auc = auc(fpr, tpr)\n",
    "print('auc =', auc)\n",
    "\n",
    "plt.figure()\n",
    "plt.title('ROC curve for trisomia 21 patients')\n",
    "plt.plot(fpr, tpr, 'b',\n",
    "label='AUC = %0.2f'% auc)\n",
    "plt.legend(loc='lower right')\n",
    "plt.plot([0,1],[0,1],'r--')\n",
    "plt.xlim([-0.1,1.2])\n",
    "plt.ylim([-0.1,1.2])\n",
    "plt.ylabel('True Positive Rate')\n",
    "plt.xlabel('False Positive Rate')\n",
    "plt.show()"
   ]
  },
  {
   "cell_type": "code",
   "execution_count": 154,
   "metadata": {},
   "outputs": [],
   "source": [
    "import pickle\n",
    "\n",
    "filename = 'C:/Users/HP/Desktop/Data/Trisomia21_RF_model.sav'\n",
    "pickle.dump(rfc, open(filename, 'wb'))"
   ]
  },
  {
   "cell_type": "code",
   "execution_count": null,
   "metadata": {},
   "outputs": [],
   "source": []
  }
 ],
 "metadata": {
  "kernelspec": {
   "display_name": "Python 3",
   "language": "python",
   "name": "python3"
  },
  "language_info": {
   "codemirror_mode": {
    "name": "ipython",
    "version": 3
   },
   "file_extension": ".py",
   "mimetype": "text/x-python",
   "name": "python",
   "nbconvert_exporter": "python",
   "pygments_lexer": "ipython3",
   "version": "3.6.8"
  }
 },
 "nbformat": 4,
 "nbformat_minor": 4
}
