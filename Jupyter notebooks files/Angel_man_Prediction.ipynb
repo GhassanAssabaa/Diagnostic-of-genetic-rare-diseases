{
 "cells": [
  {
   "cell_type": "code",
   "execution_count": 56,
   "metadata": {},
   "outputs": [],
   "source": [
    "import pandas as pd\n",
    "\n",
    "#Reading the csv file\n",
    "data = pd.read_csv('C:/Users/HP/Desktop/Data/NormalAndAngel_man.csv')"
   ]
  },
  {
   "cell_type": "code",
   "execution_count": 57,
   "metadata": {},
   "outputs": [],
   "source": [
    "data = data.drop(columns=['Unnamed: 0'])"
   ]
  },
  {
   "cell_type": "code",
   "execution_count": 58,
   "metadata": {},
   "outputs": [],
   "source": [
    "import numpy as np \n",
    "import sklearn.model_selection\n",
    "\n",
    "data = data[['chin_0_x','chin_0_y','chin_1_x','chin_1_y','chin_2_x','chin_2_y','chin_3_x','chin_3_y','chin_4_x','chin_4_y','chin_5_x','chin_5_y','chin_6_x','chin_6_y','chin_7_x','chin_7_y','chin_8_x','chin_8_y','chin_9_x','chin_9_y','chin_10_x','chin_10_y','chin_11_x','chin_11_y','chin_12_x','chin_12_y','chin_13_x','chin_13_y','chin_14_x','chin_14_y','chin_15_x','chin_15_y','chin_16_x','chin_16_y','left_eyebrow_0_x','left_eyebrow_0_y','left_eyebrow_1_x','left_eyebrow_1_y','left_eyebrow_2_x','left_eyebrow_2_y','left_eyebrow_3_x','left_eyebrow_3_y','left_eyebrow_4_x','left_eyebrow_4_y','right_eyebrow_0_x','right_eyebrow_0_y','right_eyebrow_1_x','right_eyebrow_1_y','right_eyebrow_2_x','right_eyebrow_2_y','right_eyebrow_3_x','right_eyebrow_3_y','right_eyebrow_4_x','right_eyebrow_4_y','nose_bridge_0_x','nose_bridge_0_y','nose_bridge_1_x','nose_bridge_1_y','nose_bridge_2_x','nose_bridge_2_y','nose_bridge_3_x','nose_bridge_3_y','nose_tip_0_x','nose_tip_0_y','nose_tip_1_x','nose_tip_1_y','nose_tip_2_x','nose_tip_2_y','nose_tip_3_x','nose_tip_3_y','nose_tip_4_x','nose_tip_4_y','left_eye_0_x','left_eye_0_y','left_eye_1_x','left_eye_1_y','left_eye_2_x','left_eye_2_y','left_eye_3_x','left_eye_3_y','left_eye_4_x','left_eye_4_y','left_eye_5_x','left_eye_5_y','right_eye_0_x','right_eye_0_y','right_eye_1_x','right_eye_1_y','right_eye_2_x','right_eye_2_y','right_eye_3_x','right_eye_3_y','right_eye_4_x','right_eye_4_y','right_eye_5_x','right_eye_5_y','top_lip_0_x','top_lip_0_y','top_lip_1_x','top_lip_1_y','top_lip_2_x','top_lip_2_y','top_lip_3_x','top_lip_3_y','top_lip_4_x','top_lip_4_y','top_lip_5_x','top_lip_5_y','top_lip_6_x','top_lip_6_y','top_lip_7_x','top_lip_7_y','top_lip_8_x','top_lip_8_y','top_lip_9_x','top_lip_9_y','top_lip_10_x','top_lip_10_y','top_lip_11_x','top_lip_11_y','bottom_lip_0_x','bottom_lip_0_y','bottom_lip_1_x','bottom_lip_1_y','bottom_lip_2_x','bottom_lip_2_y','bottom_lip_3_x','bottom_lip_3_y','bottom_lip_4_x','bottom_lip_4_y','bottom_lip_5_x','bottom_lip_5_y','bottom_lip_6_x','bottom_lip_6_y','bottom_lip_7_x','bottom_lip_7_y','bottom_lip_8_x','bottom_lip_8_y','bottom_lip_9_x','bottom_lip_9_y','bottom_lip_10_x','bottom_lip_10_y','bottom_lip_11_x','bottom_lip_11_y','Angel_man']]\n",
    "\n",
    "predict = 'Angel_man'\n",
    "\n",
    "X = np.array(data.drop([predict], 1))\n",
    "Y = np.array(data[predict])\n",
    "\n",
    "x_train, x_test, y_train, y_test = sklearn.model_selection.train_test_split(X, Y, test_size=0.2)\n"
   ]
  },
  {
   "cell_type": "code",
   "execution_count": 59,
   "metadata": {},
   "outputs": [
    {
     "data": {
      "text/plain": [
       "0.9958893871449925"
      ]
     },
     "execution_count": 59,
     "metadata": {},
     "output_type": "execute_result"
    }
   ],
   "source": [
    "## Import the random forest model.\n",
    "from sklearn.ensemble import RandomForestClassifier \n",
    "## This line instantiates the model. \n",
    "rf = RandomForestClassifier() \n",
    "## Fit the model on your training data.\n",
    "rf.fit(x_train, y_train) \n",
    "## And score it on your testing data.\n",
    "rf.score(x_test, y_test)"
   ]
  },
  {
   "cell_type": "code",
   "execution_count": 60,
   "metadata": {},
   "outputs": [],
   "source": [
    "#convert numpy x_train to a dataframe\n",
    "d = pd.DataFrame(data=x_train)"
   ]
  },
  {
   "cell_type": "code",
   "execution_count": 61,
   "metadata": {},
   "outputs": [],
   "source": [
    "import pandas as pd\n",
    "feature_importances = pd.DataFrame(rf.feature_importances_,\n",
    "                                   index = d.columns,\n",
    "                                    columns=['importance']).sort_values('importance',ascending=False)"
   ]
  },
  {
   "cell_type": "code",
   "execution_count": 62,
   "metadata": {},
   "outputs": [
    {
     "data": {
      "text/html": [
       "<div>\n",
       "<style scoped>\n",
       "    .dataframe tbody tr th:only-of-type {\n",
       "        vertical-align: middle;\n",
       "    }\n",
       "\n",
       "    .dataframe tbody tr th {\n",
       "        vertical-align: top;\n",
       "    }\n",
       "\n",
       "    .dataframe thead th {\n",
       "        text-align: right;\n",
       "    }\n",
       "</style>\n",
       "<table border=\"1\" class=\"dataframe\">\n",
       "  <thead>\n",
       "    <tr style=\"text-align: right;\">\n",
       "      <th></th>\n",
       "      <th>importance</th>\n",
       "    </tr>\n",
       "  </thead>\n",
       "  <tbody>\n",
       "    <tr>\n",
       "      <th>93</th>\n",
       "      <td>0.055982</td>\n",
       "    </tr>\n",
       "    <tr>\n",
       "      <th>95</th>\n",
       "      <td>0.049487</td>\n",
       "    </tr>\n",
       "    <tr>\n",
       "      <th>81</th>\n",
       "      <td>0.043590</td>\n",
       "    </tr>\n",
       "    <tr>\n",
       "      <th>85</th>\n",
       "      <td>0.042557</td>\n",
       "    </tr>\n",
       "    <tr>\n",
       "      <th>89</th>\n",
       "      <td>0.036113</td>\n",
       "    </tr>\n",
       "    <tr>\n",
       "      <th>...</th>\n",
       "      <td>...</td>\n",
       "    </tr>\n",
       "    <tr>\n",
       "      <th>111</th>\n",
       "      <td>0.000471</td>\n",
       "    </tr>\n",
       "    <tr>\n",
       "      <th>27</th>\n",
       "      <td>0.000422</td>\n",
       "    </tr>\n",
       "    <tr>\n",
       "      <th>29</th>\n",
       "      <td>0.000351</td>\n",
       "    </tr>\n",
       "    <tr>\n",
       "      <th>139</th>\n",
       "      <td>0.000202</td>\n",
       "    </tr>\n",
       "    <tr>\n",
       "      <th>113</th>\n",
       "      <td>0.000123</td>\n",
       "    </tr>\n",
       "  </tbody>\n",
       "</table>\n",
       "<p>144 rows × 1 columns</p>\n",
       "</div>"
      ],
      "text/plain": [
       "     importance\n",
       "93     0.055982\n",
       "95     0.049487\n",
       "81     0.043590\n",
       "85     0.042557\n",
       "89     0.036113\n",
       "..          ...\n",
       "111    0.000471\n",
       "27     0.000422\n",
       "29     0.000351\n",
       "139    0.000202\n",
       "113    0.000123\n",
       "\n",
       "[144 rows x 1 columns]"
      ]
     },
     "execution_count": 62,
     "metadata": {},
     "output_type": "execute_result"
    }
   ],
   "source": [
    "#L'importance des features \n",
    "feature_importances"
   ]
  },
  {
   "cell_type": "code",
   "execution_count": 63,
   "metadata": {},
   "outputs": [],
   "source": [
    "feature_importances['index_col'] = feature_importances.index"
   ]
  },
  {
   "cell_type": "code",
   "execution_count": 64,
   "metadata": {},
   "outputs": [
    {
     "data": {
      "application/vnd.plotly.v1+json": {
       "config": {
        "plotlyServerURL": "https://plot.ly"
       },
       "data": [
        {
         "alignmentgroup": "True",
         "hovertemplate": "index_col=%{x}<br>importance=%{y}<extra></extra>",
         "legendgroup": "",
         "marker": {
          "color": "#636efa"
         },
         "name": "",
         "offsetgroup": "",
         "orientation": "v",
         "showlegend": false,
         "textposition": "auto",
         "type": "bar",
         "x": [
          93,
          95,
          81,
          85,
          89,
          79,
          133,
          87,
          107,
          73,
          135,
          55,
          7,
          75,
          77,
          99,
          119,
          117,
          121,
          39,
          91,
          45,
          65,
          41,
          103,
          43,
          5,
          72,
          28,
          3,
          109,
          24,
          30,
          22,
          83,
          47,
          14,
          9,
          15,
          26,
          53,
          105,
          20,
          61,
          38,
          110,
          48,
          118,
          92,
          32,
          134,
          96,
          106,
          12,
          2,
          132,
          128,
          82,
          19,
          142,
          54,
          1,
          44,
          90,
          13,
          10,
          136,
          46,
          108,
          138,
          122,
          11,
          60,
          16,
          4,
          0,
          52,
          40,
          80,
          104,
          86,
          64,
          94,
          36,
          74,
          78,
          18,
          116,
          88,
          125,
          126,
          120,
          70,
          114,
          124,
          56,
          137,
          141,
          127,
          68,
          76,
          50,
          58,
          98,
          129,
          84,
          102,
          57,
          130,
          34,
          17,
          8,
          131,
          123,
          67,
          112,
          6,
          140,
          31,
          21,
          62,
          37,
          100,
          59,
          33,
          23,
          63,
          35,
          25,
          115,
          42,
          69,
          51,
          143,
          66,
          49,
          71,
          97,
          101,
          111,
          27,
          29,
          139,
          113
         ],
         "xaxis": "x",
         "y": [
          0.055982120311694895,
          0.04948691711188993,
          0.04359030071135789,
          0.04255731052500009,
          0.03611312945276963,
          0.031704553903598096,
          0.03081522488632921,
          0.024848539365094454,
          0.022494880804020418,
          0.02214195409203162,
          0.019884948332161718,
          0.01975938432217582,
          0.017176668431033867,
          0.016153600344709494,
          0.015194769947836138,
          0.014600576013665503,
          0.014521719523395154,
          0.014130137507982672,
          0.013276692412502464,
          0.01323746546657143,
          0.013185527267088791,
          0.012901538976026972,
          0.012859760642608565,
          0.01276255888289516,
          0.0126370108821824,
          0.012331810211636636,
          0.011776329369900774,
          0.00946356477226912,
          0.009242380179919912,
          0.007883567566187282,
          0.007851107912208426,
          0.007661835784642009,
          0.007554827292156928,
          0.0074857786191035725,
          0.007349776805349213,
          0.007251549778366102,
          0.007107110789283649,
          0.006847191235925951,
          0.006822465854253276,
          0.006713708334285537,
          0.006353688493485014,
          0.006195287263196146,
          0.0061621063797044325,
          0.006061116652859386,
          0.005900784051768367,
          0.005876774855912379,
          0.005808477816080816,
          0.005677564286088736,
          0.005472801094023258,
          0.005177928160947387,
          0.005105405605953555,
          0.005026332215156932,
          0.004935490765461462,
          0.00483023079746897,
          0.00480559439776985,
          0.0047022932984747655,
          0.00469538744370546,
          0.004399037035523896,
          0.004314818627277898,
          0.004249558699231068,
          0.004075230685108079,
          0.003993826879081114,
          0.00393936285664141,
          0.0038589215603561473,
          0.0038420667782762758,
          0.0038168944082342237,
          0.003806254449967317,
          0.00375316150009492,
          0.003743663169378597,
          0.0037071837262910405,
          0.003689564006488123,
          0.0036729142468825745,
          0.003659129927231993,
          0.0036437531316695234,
          0.0036259356863173214,
          0.0035991381177593418,
          0.003595438196055711,
          0.0035597936473866676,
          0.0035431564131426395,
          0.0034743303869120366,
          0.0034602903016537467,
          0.003455019029677536,
          0.003351021796535851,
          0.0033331506241360857,
          0.0033053888702583526,
          0.0032973588352059606,
          0.0032904853814644153,
          0.0030998000427260642,
          0.003081923033764268,
          0.002856913392399697,
          0.0028345712825640417,
          0.0028217648096768894,
          0.002748524635264431,
          0.002725419560998451,
          0.0026425906173555935,
          0.0026162217385979425,
          0.0025901066201927682,
          0.0025834470980219825,
          0.0025501606804650494,
          0.002543623101479589,
          0.0025416620955472325,
          0.0025044243736857762,
          0.002385713109632628,
          0.0023300987460160992,
          0.0022385239021047248,
          0.0022094077847175054,
          0.0021170093345558648,
          0.002060964153782215,
          0.0020427054800509752,
          0.0019914105918060164,
          0.0019654492671104485,
          0.0017587487370348067,
          0.0016931254152695407,
          0.0016892222108609192,
          0.0016757510217565458,
          0.0016567986497404666,
          0.001421865192768799,
          0.0013523815687029538,
          0.0011942831492010556,
          0.001175663648899531,
          0.0011456914400532528,
          0.0011026984886201502,
          0.001055620268739216,
          0.001053059862494364,
          0.0009908106952371237,
          0.0009296988197848424,
          0.0009210657536634268,
          0.0008529754572151283,
          0.0008406767375485186,
          0.000840264603024233,
          0.0008071687984936446,
          0.0008043620504937008,
          0.00073657947044578,
          0.0006860504615881376,
          0.0006126084122182332,
          0.0006079170008328777,
          0.0005417957644400988,
          0.0005232196607835419,
          0.0004753475464726199,
          0.00047114683627183637,
          0.0004220915973151269,
          0.00035087637942032195,
          0.0002015111834378056,
          0.00012308049024762705
         ],
         "yaxis": "y"
        }
       ],
       "layout": {
        "barmode": "relative",
        "legend": {
         "tracegroupgap": 0
        },
        "margin": {
         "t": 60
        },
        "template": {
         "data": {
          "bar": [
           {
            "error_x": {
             "color": "#2a3f5f"
            },
            "error_y": {
             "color": "#2a3f5f"
            },
            "marker": {
             "line": {
              "color": "#E5ECF6",
              "width": 0.5
             }
            },
            "type": "bar"
           }
          ],
          "barpolar": [
           {
            "marker": {
             "line": {
              "color": "#E5ECF6",
              "width": 0.5
             }
            },
            "type": "barpolar"
           }
          ],
          "carpet": [
           {
            "aaxis": {
             "endlinecolor": "#2a3f5f",
             "gridcolor": "white",
             "linecolor": "white",
             "minorgridcolor": "white",
             "startlinecolor": "#2a3f5f"
            },
            "baxis": {
             "endlinecolor": "#2a3f5f",
             "gridcolor": "white",
             "linecolor": "white",
             "minorgridcolor": "white",
             "startlinecolor": "#2a3f5f"
            },
            "type": "carpet"
           }
          ],
          "choropleth": [
           {
            "colorbar": {
             "outlinewidth": 0,
             "ticks": ""
            },
            "type": "choropleth"
           }
          ],
          "contour": [
           {
            "colorbar": {
             "outlinewidth": 0,
             "ticks": ""
            },
            "colorscale": [
             [
              0,
              "#0d0887"
             ],
             [
              0.1111111111111111,
              "#46039f"
             ],
             [
              0.2222222222222222,
              "#7201a8"
             ],
             [
              0.3333333333333333,
              "#9c179e"
             ],
             [
              0.4444444444444444,
              "#bd3786"
             ],
             [
              0.5555555555555556,
              "#d8576b"
             ],
             [
              0.6666666666666666,
              "#ed7953"
             ],
             [
              0.7777777777777778,
              "#fb9f3a"
             ],
             [
              0.8888888888888888,
              "#fdca26"
             ],
             [
              1,
              "#f0f921"
             ]
            ],
            "type": "contour"
           }
          ],
          "contourcarpet": [
           {
            "colorbar": {
             "outlinewidth": 0,
             "ticks": ""
            },
            "type": "contourcarpet"
           }
          ],
          "heatmap": [
           {
            "colorbar": {
             "outlinewidth": 0,
             "ticks": ""
            },
            "colorscale": [
             [
              0,
              "#0d0887"
             ],
             [
              0.1111111111111111,
              "#46039f"
             ],
             [
              0.2222222222222222,
              "#7201a8"
             ],
             [
              0.3333333333333333,
              "#9c179e"
             ],
             [
              0.4444444444444444,
              "#bd3786"
             ],
             [
              0.5555555555555556,
              "#d8576b"
             ],
             [
              0.6666666666666666,
              "#ed7953"
             ],
             [
              0.7777777777777778,
              "#fb9f3a"
             ],
             [
              0.8888888888888888,
              "#fdca26"
             ],
             [
              1,
              "#f0f921"
             ]
            ],
            "type": "heatmap"
           }
          ],
          "heatmapgl": [
           {
            "colorbar": {
             "outlinewidth": 0,
             "ticks": ""
            },
            "colorscale": [
             [
              0,
              "#0d0887"
             ],
             [
              0.1111111111111111,
              "#46039f"
             ],
             [
              0.2222222222222222,
              "#7201a8"
             ],
             [
              0.3333333333333333,
              "#9c179e"
             ],
             [
              0.4444444444444444,
              "#bd3786"
             ],
             [
              0.5555555555555556,
              "#d8576b"
             ],
             [
              0.6666666666666666,
              "#ed7953"
             ],
             [
              0.7777777777777778,
              "#fb9f3a"
             ],
             [
              0.8888888888888888,
              "#fdca26"
             ],
             [
              1,
              "#f0f921"
             ]
            ],
            "type": "heatmapgl"
           }
          ],
          "histogram": [
           {
            "marker": {
             "colorbar": {
              "outlinewidth": 0,
              "ticks": ""
             }
            },
            "type": "histogram"
           }
          ],
          "histogram2d": [
           {
            "colorbar": {
             "outlinewidth": 0,
             "ticks": ""
            },
            "colorscale": [
             [
              0,
              "#0d0887"
             ],
             [
              0.1111111111111111,
              "#46039f"
             ],
             [
              0.2222222222222222,
              "#7201a8"
             ],
             [
              0.3333333333333333,
              "#9c179e"
             ],
             [
              0.4444444444444444,
              "#bd3786"
             ],
             [
              0.5555555555555556,
              "#d8576b"
             ],
             [
              0.6666666666666666,
              "#ed7953"
             ],
             [
              0.7777777777777778,
              "#fb9f3a"
             ],
             [
              0.8888888888888888,
              "#fdca26"
             ],
             [
              1,
              "#f0f921"
             ]
            ],
            "type": "histogram2d"
           }
          ],
          "histogram2dcontour": [
           {
            "colorbar": {
             "outlinewidth": 0,
             "ticks": ""
            },
            "colorscale": [
             [
              0,
              "#0d0887"
             ],
             [
              0.1111111111111111,
              "#46039f"
             ],
             [
              0.2222222222222222,
              "#7201a8"
             ],
             [
              0.3333333333333333,
              "#9c179e"
             ],
             [
              0.4444444444444444,
              "#bd3786"
             ],
             [
              0.5555555555555556,
              "#d8576b"
             ],
             [
              0.6666666666666666,
              "#ed7953"
             ],
             [
              0.7777777777777778,
              "#fb9f3a"
             ],
             [
              0.8888888888888888,
              "#fdca26"
             ],
             [
              1,
              "#f0f921"
             ]
            ],
            "type": "histogram2dcontour"
           }
          ],
          "mesh3d": [
           {
            "colorbar": {
             "outlinewidth": 0,
             "ticks": ""
            },
            "type": "mesh3d"
           }
          ],
          "parcoords": [
           {
            "line": {
             "colorbar": {
              "outlinewidth": 0,
              "ticks": ""
             }
            },
            "type": "parcoords"
           }
          ],
          "pie": [
           {
            "automargin": true,
            "type": "pie"
           }
          ],
          "scatter": [
           {
            "marker": {
             "colorbar": {
              "outlinewidth": 0,
              "ticks": ""
             }
            },
            "type": "scatter"
           }
          ],
          "scatter3d": [
           {
            "line": {
             "colorbar": {
              "outlinewidth": 0,
              "ticks": ""
             }
            },
            "marker": {
             "colorbar": {
              "outlinewidth": 0,
              "ticks": ""
             }
            },
            "type": "scatter3d"
           }
          ],
          "scattercarpet": [
           {
            "marker": {
             "colorbar": {
              "outlinewidth": 0,
              "ticks": ""
             }
            },
            "type": "scattercarpet"
           }
          ],
          "scattergeo": [
           {
            "marker": {
             "colorbar": {
              "outlinewidth": 0,
              "ticks": ""
             }
            },
            "type": "scattergeo"
           }
          ],
          "scattergl": [
           {
            "marker": {
             "colorbar": {
              "outlinewidth": 0,
              "ticks": ""
             }
            },
            "type": "scattergl"
           }
          ],
          "scattermapbox": [
           {
            "marker": {
             "colorbar": {
              "outlinewidth": 0,
              "ticks": ""
             }
            },
            "type": "scattermapbox"
           }
          ],
          "scatterpolar": [
           {
            "marker": {
             "colorbar": {
              "outlinewidth": 0,
              "ticks": ""
             }
            },
            "type": "scatterpolar"
           }
          ],
          "scatterpolargl": [
           {
            "marker": {
             "colorbar": {
              "outlinewidth": 0,
              "ticks": ""
             }
            },
            "type": "scatterpolargl"
           }
          ],
          "scatterternary": [
           {
            "marker": {
             "colorbar": {
              "outlinewidth": 0,
              "ticks": ""
             }
            },
            "type": "scatterternary"
           }
          ],
          "surface": [
           {
            "colorbar": {
             "outlinewidth": 0,
             "ticks": ""
            },
            "colorscale": [
             [
              0,
              "#0d0887"
             ],
             [
              0.1111111111111111,
              "#46039f"
             ],
             [
              0.2222222222222222,
              "#7201a8"
             ],
             [
              0.3333333333333333,
              "#9c179e"
             ],
             [
              0.4444444444444444,
              "#bd3786"
             ],
             [
              0.5555555555555556,
              "#d8576b"
             ],
             [
              0.6666666666666666,
              "#ed7953"
             ],
             [
              0.7777777777777778,
              "#fb9f3a"
             ],
             [
              0.8888888888888888,
              "#fdca26"
             ],
             [
              1,
              "#f0f921"
             ]
            ],
            "type": "surface"
           }
          ],
          "table": [
           {
            "cells": {
             "fill": {
              "color": "#EBF0F8"
             },
             "line": {
              "color": "white"
             }
            },
            "header": {
             "fill": {
              "color": "#C8D4E3"
             },
             "line": {
              "color": "white"
             }
            },
            "type": "table"
           }
          ]
         },
         "layout": {
          "annotationdefaults": {
           "arrowcolor": "#2a3f5f",
           "arrowhead": 0,
           "arrowwidth": 1
          },
          "coloraxis": {
           "colorbar": {
            "outlinewidth": 0,
            "ticks": ""
           }
          },
          "colorscale": {
           "diverging": [
            [
             0,
             "#8e0152"
            ],
            [
             0.1,
             "#c51b7d"
            ],
            [
             0.2,
             "#de77ae"
            ],
            [
             0.3,
             "#f1b6da"
            ],
            [
             0.4,
             "#fde0ef"
            ],
            [
             0.5,
             "#f7f7f7"
            ],
            [
             0.6,
             "#e6f5d0"
            ],
            [
             0.7,
             "#b8e186"
            ],
            [
             0.8,
             "#7fbc41"
            ],
            [
             0.9,
             "#4d9221"
            ],
            [
             1,
             "#276419"
            ]
           ],
           "sequential": [
            [
             0,
             "#0d0887"
            ],
            [
             0.1111111111111111,
             "#46039f"
            ],
            [
             0.2222222222222222,
             "#7201a8"
            ],
            [
             0.3333333333333333,
             "#9c179e"
            ],
            [
             0.4444444444444444,
             "#bd3786"
            ],
            [
             0.5555555555555556,
             "#d8576b"
            ],
            [
             0.6666666666666666,
             "#ed7953"
            ],
            [
             0.7777777777777778,
             "#fb9f3a"
            ],
            [
             0.8888888888888888,
             "#fdca26"
            ],
            [
             1,
             "#f0f921"
            ]
           ],
           "sequentialminus": [
            [
             0,
             "#0d0887"
            ],
            [
             0.1111111111111111,
             "#46039f"
            ],
            [
             0.2222222222222222,
             "#7201a8"
            ],
            [
             0.3333333333333333,
             "#9c179e"
            ],
            [
             0.4444444444444444,
             "#bd3786"
            ],
            [
             0.5555555555555556,
             "#d8576b"
            ],
            [
             0.6666666666666666,
             "#ed7953"
            ],
            [
             0.7777777777777778,
             "#fb9f3a"
            ],
            [
             0.8888888888888888,
             "#fdca26"
            ],
            [
             1,
             "#f0f921"
            ]
           ]
          },
          "colorway": [
           "#636efa",
           "#EF553B",
           "#00cc96",
           "#ab63fa",
           "#FFA15A",
           "#19d3f3",
           "#FF6692",
           "#B6E880",
           "#FF97FF",
           "#FECB52"
          ],
          "font": {
           "color": "#2a3f5f"
          },
          "geo": {
           "bgcolor": "white",
           "lakecolor": "white",
           "landcolor": "#E5ECF6",
           "showlakes": true,
           "showland": true,
           "subunitcolor": "white"
          },
          "hoverlabel": {
           "align": "left"
          },
          "hovermode": "closest",
          "mapbox": {
           "style": "light"
          },
          "paper_bgcolor": "white",
          "plot_bgcolor": "#E5ECF6",
          "polar": {
           "angularaxis": {
            "gridcolor": "white",
            "linecolor": "white",
            "ticks": ""
           },
           "bgcolor": "#E5ECF6",
           "radialaxis": {
            "gridcolor": "white",
            "linecolor": "white",
            "ticks": ""
           }
          },
          "scene": {
           "xaxis": {
            "backgroundcolor": "#E5ECF6",
            "gridcolor": "white",
            "gridwidth": 2,
            "linecolor": "white",
            "showbackground": true,
            "ticks": "",
            "zerolinecolor": "white"
           },
           "yaxis": {
            "backgroundcolor": "#E5ECF6",
            "gridcolor": "white",
            "gridwidth": 2,
            "linecolor": "white",
            "showbackground": true,
            "ticks": "",
            "zerolinecolor": "white"
           },
           "zaxis": {
            "backgroundcolor": "#E5ECF6",
            "gridcolor": "white",
            "gridwidth": 2,
            "linecolor": "white",
            "showbackground": true,
            "ticks": "",
            "zerolinecolor": "white"
           }
          },
          "shapedefaults": {
           "line": {
            "color": "#2a3f5f"
           }
          },
          "ternary": {
           "aaxis": {
            "gridcolor": "white",
            "linecolor": "white",
            "ticks": ""
           },
           "baxis": {
            "gridcolor": "white",
            "linecolor": "white",
            "ticks": ""
           },
           "bgcolor": "#E5ECF6",
           "caxis": {
            "gridcolor": "white",
            "linecolor": "white",
            "ticks": ""
           }
          },
          "title": {
           "x": 0.05
          },
          "xaxis": {
           "automargin": true,
           "gridcolor": "white",
           "linecolor": "white",
           "ticks": "",
           "title": {
            "standoff": 15
           },
           "zerolinecolor": "white",
           "zerolinewidth": 2
          },
          "yaxis": {
           "automargin": true,
           "gridcolor": "white",
           "linecolor": "white",
           "ticks": "",
           "title": {
            "standoff": 15
           },
           "zerolinecolor": "white",
           "zerolinewidth": 2
          }
         }
        },
        "xaxis": {
         "anchor": "y",
         "domain": [
          0,
          1
         ],
         "title": {
          "text": "index_col"
         }
        },
        "yaxis": {
         "anchor": "x",
         "domain": [
          0,
          1
         ],
         "title": {
          "text": "importance"
         }
        }
       }
      },
      "text/html": [
       "<div>\n",
       "        \n",
       "        \n",
       "            <div id=\"d032f77e-b5cb-4f37-9281-4876dc43f308\" class=\"plotly-graph-div\" style=\"height:525px; width:100%;\"></div>\n",
       "            <script type=\"text/javascript\">\n",
       "                require([\"plotly\"], function(Plotly) {\n",
       "                    window.PLOTLYENV=window.PLOTLYENV || {};\n",
       "                    \n",
       "                if (document.getElementById(\"d032f77e-b5cb-4f37-9281-4876dc43f308\")) {\n",
       "                    Plotly.newPlot(\n",
       "                        'd032f77e-b5cb-4f37-9281-4876dc43f308',\n",
       "                        [{\"alignmentgroup\": \"True\", \"hovertemplate\": \"index_col=%{x}<br>importance=%{y}<extra></extra>\", \"legendgroup\": \"\", \"marker\": {\"color\": \"#636efa\"}, \"name\": \"\", \"offsetgroup\": \"\", \"orientation\": \"v\", \"showlegend\": false, \"textposition\": \"auto\", \"type\": \"bar\", \"x\": [93, 95, 81, 85, 89, 79, 133, 87, 107, 73, 135, 55, 7, 75, 77, 99, 119, 117, 121, 39, 91, 45, 65, 41, 103, 43, 5, 72, 28, 3, 109, 24, 30, 22, 83, 47, 14, 9, 15, 26, 53, 105, 20, 61, 38, 110, 48, 118, 92, 32, 134, 96, 106, 12, 2, 132, 128, 82, 19, 142, 54, 1, 44, 90, 13, 10, 136, 46, 108, 138, 122, 11, 60, 16, 4, 0, 52, 40, 80, 104, 86, 64, 94, 36, 74, 78, 18, 116, 88, 125, 126, 120, 70, 114, 124, 56, 137, 141, 127, 68, 76, 50, 58, 98, 129, 84, 102, 57, 130, 34, 17, 8, 131, 123, 67, 112, 6, 140, 31, 21, 62, 37, 100, 59, 33, 23, 63, 35, 25, 115, 42, 69, 51, 143, 66, 49, 71, 97, 101, 111, 27, 29, 139, 113], \"xaxis\": \"x\", \"y\": [0.055982120311694895, 0.04948691711188993, 0.04359030071135789, 0.04255731052500009, 0.03611312945276963, 0.031704553903598096, 0.03081522488632921, 0.024848539365094454, 0.022494880804020418, 0.02214195409203162, 0.019884948332161718, 0.01975938432217582, 0.017176668431033867, 0.016153600344709494, 0.015194769947836138, 0.014600576013665503, 0.014521719523395154, 0.014130137507982672, 0.013276692412502464, 0.01323746546657143, 0.013185527267088791, 0.012901538976026972, 0.012859760642608565, 0.01276255888289516, 0.0126370108821824, 0.012331810211636636, 0.011776329369900774, 0.00946356477226912, 0.009242380179919912, 0.007883567566187282, 0.007851107912208426, 0.007661835784642009, 0.007554827292156928, 0.0074857786191035725, 0.007349776805349213, 0.007251549778366102, 0.007107110789283649, 0.006847191235925951, 0.006822465854253276, 0.006713708334285537, 0.006353688493485014, 0.006195287263196146, 0.0061621063797044325, 0.006061116652859386, 0.005900784051768367, 0.005876774855912379, 0.005808477816080816, 0.005677564286088736, 0.005472801094023258, 0.005177928160947387, 0.005105405605953555, 0.005026332215156932, 0.004935490765461462, 0.00483023079746897, 0.00480559439776985, 0.0047022932984747655, 0.00469538744370546, 0.004399037035523896, 0.004314818627277898, 0.004249558699231068, 0.004075230685108079, 0.003993826879081114, 0.00393936285664141, 0.0038589215603561473, 0.0038420667782762758, 0.0038168944082342237, 0.003806254449967317, 0.00375316150009492, 0.003743663169378597, 0.0037071837262910405, 0.003689564006488123, 0.0036729142468825745, 0.003659129927231993, 0.0036437531316695234, 0.0036259356863173214, 0.0035991381177593418, 0.003595438196055711, 0.0035597936473866676, 0.0035431564131426395, 0.0034743303869120366, 0.0034602903016537467, 0.003455019029677536, 0.003351021796535851, 0.0033331506241360857, 0.0033053888702583526, 0.0032973588352059606, 0.0032904853814644153, 0.0030998000427260642, 0.003081923033764268, 0.002856913392399697, 0.0028345712825640417, 0.0028217648096768894, 0.002748524635264431, 0.002725419560998451, 0.0026425906173555935, 0.0026162217385979425, 0.0025901066201927682, 0.0025834470980219825, 0.0025501606804650494, 0.002543623101479589, 0.0025416620955472325, 0.0025044243736857762, 0.002385713109632628, 0.0023300987460160992, 0.0022385239021047248, 0.0022094077847175054, 0.0021170093345558648, 0.002060964153782215, 0.0020427054800509752, 0.0019914105918060164, 0.0019654492671104485, 0.0017587487370348067, 0.0016931254152695407, 0.0016892222108609192, 0.0016757510217565458, 0.0016567986497404666, 0.001421865192768799, 0.0013523815687029538, 0.0011942831492010556, 0.001175663648899531, 0.0011456914400532528, 0.0011026984886201502, 0.001055620268739216, 0.001053059862494364, 0.0009908106952371237, 0.0009296988197848424, 0.0009210657536634268, 0.0008529754572151283, 0.0008406767375485186, 0.000840264603024233, 0.0008071687984936446, 0.0008043620504937008, 0.00073657947044578, 0.0006860504615881376, 0.0006126084122182332, 0.0006079170008328777, 0.0005417957644400988, 0.0005232196607835419, 0.0004753475464726199, 0.00047114683627183637, 0.0004220915973151269, 0.00035087637942032195, 0.0002015111834378056, 0.00012308049024762705], \"yaxis\": \"y\"}],\n",
       "                        {\"barmode\": \"relative\", \"legend\": {\"tracegroupgap\": 0}, \"margin\": {\"t\": 60}, \"template\": {\"data\": {\"bar\": [{\"error_x\": {\"color\": \"#2a3f5f\"}, \"error_y\": {\"color\": \"#2a3f5f\"}, \"marker\": {\"line\": {\"color\": \"#E5ECF6\", \"width\": 0.5}}, \"type\": \"bar\"}], \"barpolar\": [{\"marker\": {\"line\": {\"color\": \"#E5ECF6\", \"width\": 0.5}}, \"type\": \"barpolar\"}], \"carpet\": [{\"aaxis\": {\"endlinecolor\": \"#2a3f5f\", \"gridcolor\": \"white\", \"linecolor\": \"white\", \"minorgridcolor\": \"white\", \"startlinecolor\": \"#2a3f5f\"}, \"baxis\": {\"endlinecolor\": \"#2a3f5f\", \"gridcolor\": \"white\", \"linecolor\": \"white\", \"minorgridcolor\": \"white\", \"startlinecolor\": \"#2a3f5f\"}, \"type\": \"carpet\"}], \"choropleth\": [{\"colorbar\": {\"outlinewidth\": 0, \"ticks\": \"\"}, \"type\": \"choropleth\"}], \"contour\": [{\"colorbar\": {\"outlinewidth\": 0, \"ticks\": \"\"}, \"colorscale\": [[0.0, \"#0d0887\"], [0.1111111111111111, \"#46039f\"], [0.2222222222222222, \"#7201a8\"], [0.3333333333333333, \"#9c179e\"], [0.4444444444444444, \"#bd3786\"], [0.5555555555555556, \"#d8576b\"], [0.6666666666666666, \"#ed7953\"], [0.7777777777777778, \"#fb9f3a\"], [0.8888888888888888, \"#fdca26\"], [1.0, \"#f0f921\"]], \"type\": \"contour\"}], \"contourcarpet\": [{\"colorbar\": {\"outlinewidth\": 0, \"ticks\": \"\"}, \"type\": \"contourcarpet\"}], \"heatmap\": [{\"colorbar\": {\"outlinewidth\": 0, \"ticks\": \"\"}, \"colorscale\": [[0.0, \"#0d0887\"], [0.1111111111111111, \"#46039f\"], [0.2222222222222222, \"#7201a8\"], [0.3333333333333333, \"#9c179e\"], [0.4444444444444444, \"#bd3786\"], [0.5555555555555556, \"#d8576b\"], [0.6666666666666666, \"#ed7953\"], [0.7777777777777778, \"#fb9f3a\"], [0.8888888888888888, \"#fdca26\"], [1.0, \"#f0f921\"]], \"type\": \"heatmap\"}], \"heatmapgl\": [{\"colorbar\": {\"outlinewidth\": 0, \"ticks\": \"\"}, \"colorscale\": [[0.0, \"#0d0887\"], [0.1111111111111111, \"#46039f\"], [0.2222222222222222, \"#7201a8\"], [0.3333333333333333, \"#9c179e\"], [0.4444444444444444, \"#bd3786\"], [0.5555555555555556, \"#d8576b\"], [0.6666666666666666, \"#ed7953\"], [0.7777777777777778, \"#fb9f3a\"], [0.8888888888888888, \"#fdca26\"], [1.0, \"#f0f921\"]], \"type\": \"heatmapgl\"}], \"histogram\": [{\"marker\": {\"colorbar\": {\"outlinewidth\": 0, \"ticks\": \"\"}}, \"type\": \"histogram\"}], \"histogram2d\": [{\"colorbar\": {\"outlinewidth\": 0, \"ticks\": \"\"}, \"colorscale\": [[0.0, \"#0d0887\"], [0.1111111111111111, \"#46039f\"], [0.2222222222222222, \"#7201a8\"], [0.3333333333333333, \"#9c179e\"], [0.4444444444444444, \"#bd3786\"], [0.5555555555555556, \"#d8576b\"], [0.6666666666666666, \"#ed7953\"], [0.7777777777777778, \"#fb9f3a\"], [0.8888888888888888, \"#fdca26\"], [1.0, \"#f0f921\"]], \"type\": \"histogram2d\"}], \"histogram2dcontour\": [{\"colorbar\": {\"outlinewidth\": 0, \"ticks\": \"\"}, \"colorscale\": [[0.0, \"#0d0887\"], [0.1111111111111111, \"#46039f\"], [0.2222222222222222, \"#7201a8\"], [0.3333333333333333, \"#9c179e\"], [0.4444444444444444, \"#bd3786\"], [0.5555555555555556, \"#d8576b\"], [0.6666666666666666, \"#ed7953\"], [0.7777777777777778, \"#fb9f3a\"], [0.8888888888888888, \"#fdca26\"], [1.0, \"#f0f921\"]], \"type\": \"histogram2dcontour\"}], \"mesh3d\": [{\"colorbar\": {\"outlinewidth\": 0, \"ticks\": \"\"}, \"type\": \"mesh3d\"}], \"parcoords\": [{\"line\": {\"colorbar\": {\"outlinewidth\": 0, \"ticks\": \"\"}}, \"type\": \"parcoords\"}], \"pie\": [{\"automargin\": true, \"type\": \"pie\"}], \"scatter\": [{\"marker\": {\"colorbar\": {\"outlinewidth\": 0, \"ticks\": \"\"}}, \"type\": \"scatter\"}], \"scatter3d\": [{\"line\": {\"colorbar\": {\"outlinewidth\": 0, \"ticks\": \"\"}}, \"marker\": {\"colorbar\": {\"outlinewidth\": 0, \"ticks\": \"\"}}, \"type\": \"scatter3d\"}], \"scattercarpet\": [{\"marker\": {\"colorbar\": {\"outlinewidth\": 0, \"ticks\": \"\"}}, \"type\": \"scattercarpet\"}], \"scattergeo\": [{\"marker\": {\"colorbar\": {\"outlinewidth\": 0, \"ticks\": \"\"}}, \"type\": \"scattergeo\"}], \"scattergl\": [{\"marker\": {\"colorbar\": {\"outlinewidth\": 0, \"ticks\": \"\"}}, \"type\": \"scattergl\"}], \"scattermapbox\": [{\"marker\": {\"colorbar\": {\"outlinewidth\": 0, \"ticks\": \"\"}}, \"type\": \"scattermapbox\"}], \"scatterpolar\": [{\"marker\": {\"colorbar\": {\"outlinewidth\": 0, \"ticks\": \"\"}}, \"type\": \"scatterpolar\"}], \"scatterpolargl\": [{\"marker\": {\"colorbar\": {\"outlinewidth\": 0, \"ticks\": \"\"}}, \"type\": \"scatterpolargl\"}], \"scatterternary\": [{\"marker\": {\"colorbar\": {\"outlinewidth\": 0, \"ticks\": \"\"}}, \"type\": \"scatterternary\"}], \"surface\": [{\"colorbar\": {\"outlinewidth\": 0, \"ticks\": \"\"}, \"colorscale\": [[0.0, \"#0d0887\"], [0.1111111111111111, \"#46039f\"], [0.2222222222222222, \"#7201a8\"], [0.3333333333333333, \"#9c179e\"], [0.4444444444444444, \"#bd3786\"], [0.5555555555555556, \"#d8576b\"], [0.6666666666666666, \"#ed7953\"], [0.7777777777777778, \"#fb9f3a\"], [0.8888888888888888, \"#fdca26\"], [1.0, \"#f0f921\"]], \"type\": \"surface\"}], \"table\": [{\"cells\": {\"fill\": {\"color\": \"#EBF0F8\"}, \"line\": {\"color\": \"white\"}}, \"header\": {\"fill\": {\"color\": \"#C8D4E3\"}, \"line\": {\"color\": \"white\"}}, \"type\": \"table\"}]}, \"layout\": {\"annotationdefaults\": {\"arrowcolor\": \"#2a3f5f\", \"arrowhead\": 0, \"arrowwidth\": 1}, \"coloraxis\": {\"colorbar\": {\"outlinewidth\": 0, \"ticks\": \"\"}}, \"colorscale\": {\"diverging\": [[0, \"#8e0152\"], [0.1, \"#c51b7d\"], [0.2, \"#de77ae\"], [0.3, \"#f1b6da\"], [0.4, \"#fde0ef\"], [0.5, \"#f7f7f7\"], [0.6, \"#e6f5d0\"], [0.7, \"#b8e186\"], [0.8, \"#7fbc41\"], [0.9, \"#4d9221\"], [1, \"#276419\"]], \"sequential\": [[0.0, \"#0d0887\"], [0.1111111111111111, \"#46039f\"], [0.2222222222222222, \"#7201a8\"], [0.3333333333333333, \"#9c179e\"], [0.4444444444444444, \"#bd3786\"], [0.5555555555555556, \"#d8576b\"], [0.6666666666666666, \"#ed7953\"], [0.7777777777777778, \"#fb9f3a\"], [0.8888888888888888, \"#fdca26\"], [1.0, \"#f0f921\"]], \"sequentialminus\": [[0.0, \"#0d0887\"], [0.1111111111111111, \"#46039f\"], [0.2222222222222222, \"#7201a8\"], [0.3333333333333333, \"#9c179e\"], [0.4444444444444444, \"#bd3786\"], [0.5555555555555556, \"#d8576b\"], [0.6666666666666666, \"#ed7953\"], [0.7777777777777778, \"#fb9f3a\"], [0.8888888888888888, \"#fdca26\"], [1.0, \"#f0f921\"]]}, \"colorway\": [\"#636efa\", \"#EF553B\", \"#00cc96\", \"#ab63fa\", \"#FFA15A\", \"#19d3f3\", \"#FF6692\", \"#B6E880\", \"#FF97FF\", \"#FECB52\"], \"font\": {\"color\": \"#2a3f5f\"}, \"geo\": {\"bgcolor\": \"white\", \"lakecolor\": \"white\", \"landcolor\": \"#E5ECF6\", \"showlakes\": true, \"showland\": true, \"subunitcolor\": \"white\"}, \"hoverlabel\": {\"align\": \"left\"}, \"hovermode\": \"closest\", \"mapbox\": {\"style\": \"light\"}, \"paper_bgcolor\": \"white\", \"plot_bgcolor\": \"#E5ECF6\", \"polar\": {\"angularaxis\": {\"gridcolor\": \"white\", \"linecolor\": \"white\", \"ticks\": \"\"}, \"bgcolor\": \"#E5ECF6\", \"radialaxis\": {\"gridcolor\": \"white\", \"linecolor\": \"white\", \"ticks\": \"\"}}, \"scene\": {\"xaxis\": {\"backgroundcolor\": \"#E5ECF6\", \"gridcolor\": \"white\", \"gridwidth\": 2, \"linecolor\": \"white\", \"showbackground\": true, \"ticks\": \"\", \"zerolinecolor\": \"white\"}, \"yaxis\": {\"backgroundcolor\": \"#E5ECF6\", \"gridcolor\": \"white\", \"gridwidth\": 2, \"linecolor\": \"white\", \"showbackground\": true, \"ticks\": \"\", \"zerolinecolor\": \"white\"}, \"zaxis\": {\"backgroundcolor\": \"#E5ECF6\", \"gridcolor\": \"white\", \"gridwidth\": 2, \"linecolor\": \"white\", \"showbackground\": true, \"ticks\": \"\", \"zerolinecolor\": \"white\"}}, \"shapedefaults\": {\"line\": {\"color\": \"#2a3f5f\"}}, \"ternary\": {\"aaxis\": {\"gridcolor\": \"white\", \"linecolor\": \"white\", \"ticks\": \"\"}, \"baxis\": {\"gridcolor\": \"white\", \"linecolor\": \"white\", \"ticks\": \"\"}, \"bgcolor\": \"#E5ECF6\", \"caxis\": {\"gridcolor\": \"white\", \"linecolor\": \"white\", \"ticks\": \"\"}}, \"title\": {\"x\": 0.05}, \"xaxis\": {\"automargin\": true, \"gridcolor\": \"white\", \"linecolor\": \"white\", \"ticks\": \"\", \"title\": {\"standoff\": 15}, \"zerolinecolor\": \"white\", \"zerolinewidth\": 2}, \"yaxis\": {\"automargin\": true, \"gridcolor\": \"white\", \"linecolor\": \"white\", \"ticks\": \"\", \"title\": {\"standoff\": 15}, \"zerolinecolor\": \"white\", \"zerolinewidth\": 2}}}, \"xaxis\": {\"anchor\": \"y\", \"domain\": [0.0, 1.0], \"title\": {\"text\": \"index_col\"}}, \"yaxis\": {\"anchor\": \"x\", \"domain\": [0.0, 1.0], \"title\": {\"text\": \"importance\"}}},\n",
       "                        {\"responsive\": true}\n",
       "                    ).then(function(){\n",
       "                            \n",
       "var gd = document.getElementById('d032f77e-b5cb-4f37-9281-4876dc43f308');\n",
       "var x = new MutationObserver(function (mutations, observer) {{\n",
       "        var display = window.getComputedStyle(gd).display;\n",
       "        if (!display || display === 'none') {{\n",
       "            console.log([gd, 'removed!']);\n",
       "            Plotly.purge(gd);\n",
       "            observer.disconnect();\n",
       "        }}\n",
       "}});\n",
       "\n",
       "// Listen for the removal of the full notebook cells\n",
       "var notebookContainer = gd.closest('#notebook-container');\n",
       "if (notebookContainer) {{\n",
       "    x.observe(notebookContainer, {childList: true});\n",
       "}}\n",
       "\n",
       "// Listen for the clearing of the current output cell\n",
       "var outputEl = gd.closest('.output');\n",
       "if (outputEl) {{\n",
       "    x.observe(outputEl, {childList: true});\n",
       "}}\n",
       "\n",
       "                        })\n",
       "                };\n",
       "                });\n",
       "            </script>\n",
       "        </div>"
      ]
     },
     "metadata": {},
     "output_type": "display_data"
    }
   ],
   "source": [
    "import plotly.express as px\n",
    "fig = px.bar(feature_importances, x= 'index_col' , y= 'importance' )\n",
    "fig.show()"
   ]
  },
  {
   "cell_type": "code",
   "execution_count": 65,
   "metadata": {},
   "outputs": [],
   "source": [
    "#Selection of most important features\n",
    "data = data.iloc[:, [0,1,9,10,44,45,54,55,64,65,70,71,72,73,74,75,76,77,78,79,80,81,84,85,86,87,88,89,92,93,94,95,96,97,98,99,118,119,134,135,144]]"
   ]
  },
  {
   "cell_type": "code",
   "execution_count": 66,
   "metadata": {},
   "outputs": [
    {
     "data": {
      "text/html": [
       "<div>\n",
       "<style scoped>\n",
       "    .dataframe tbody tr th:only-of-type {\n",
       "        vertical-align: middle;\n",
       "    }\n",
       "\n",
       "    .dataframe tbody tr th {\n",
       "        vertical-align: top;\n",
       "    }\n",
       "\n",
       "    .dataframe thead th {\n",
       "        text-align: right;\n",
       "    }\n",
       "</style>\n",
       "<table border=\"1\" class=\"dataframe\">\n",
       "  <thead>\n",
       "    <tr style=\"text-align: right;\">\n",
       "      <th></th>\n",
       "      <th>chin_0_x</th>\n",
       "      <th>chin_0_y</th>\n",
       "      <th>chin_4_y</th>\n",
       "      <th>chin_5_x</th>\n",
       "      <th>right_eyebrow_0_x</th>\n",
       "      <th>right_eyebrow_0_y</th>\n",
       "      <th>nose_bridge_0_x</th>\n",
       "      <th>nose_bridge_0_y</th>\n",
       "      <th>nose_tip_1_x</th>\n",
       "      <th>nose_tip_1_y</th>\n",
       "      <th>...</th>\n",
       "      <th>right_eye_5_y</th>\n",
       "      <th>top_lip_0_x</th>\n",
       "      <th>top_lip_0_y</th>\n",
       "      <th>top_lip_1_x</th>\n",
       "      <th>top_lip_1_y</th>\n",
       "      <th>top_lip_11_x</th>\n",
       "      <th>top_lip_11_y</th>\n",
       "      <th>bottom_lip_7_x</th>\n",
       "      <th>bottom_lip_7_y</th>\n",
       "      <th>Angel_man</th>\n",
       "    </tr>\n",
       "  </thead>\n",
       "  <tbody>\n",
       "    <tr>\n",
       "      <th>0</th>\n",
       "      <td>83</td>\n",
       "      <td>134</td>\n",
       "      <td>174</td>\n",
       "      <td>96</td>\n",
       "      <td>117</td>\n",
       "      <td>105</td>\n",
       "      <td>110</td>\n",
       "      <td>115</td>\n",
       "      <td>109</td>\n",
       "      <td>142</td>\n",
       "      <td>...</td>\n",
       "      <td>116</td>\n",
       "      <td>105</td>\n",
       "      <td>164</td>\n",
       "      <td>107</td>\n",
       "      <td>157</td>\n",
       "      <td>108</td>\n",
       "      <td>163</td>\n",
       "      <td>108</td>\n",
       "      <td>163</td>\n",
       "      <td>0</td>\n",
       "    </tr>\n",
       "    <tr>\n",
       "      <th>1</th>\n",
       "      <td>62</td>\n",
       "      <td>110</td>\n",
       "      <td>162</td>\n",
       "      <td>89</td>\n",
       "      <td>133</td>\n",
       "      <td>105</td>\n",
       "      <td>128</td>\n",
       "      <td>113</td>\n",
       "      <td>125</td>\n",
       "      <td>143</td>\n",
       "      <td>...</td>\n",
       "      <td>116</td>\n",
       "      <td>109</td>\n",
       "      <td>159</td>\n",
       "      <td>118</td>\n",
       "      <td>155</td>\n",
       "      <td>112</td>\n",
       "      <td>159</td>\n",
       "      <td>112</td>\n",
       "      <td>159</td>\n",
       "      <td>0</td>\n",
       "    </tr>\n",
       "    <tr>\n",
       "      <th>2</th>\n",
       "      <td>75</td>\n",
       "      <td>120</td>\n",
       "      <td>171</td>\n",
       "      <td>92</td>\n",
       "      <td>129</td>\n",
       "      <td>101</td>\n",
       "      <td>122</td>\n",
       "      <td>110</td>\n",
       "      <td>120</td>\n",
       "      <td>143</td>\n",
       "      <td>...</td>\n",
       "      <td>115</td>\n",
       "      <td>108</td>\n",
       "      <td>160</td>\n",
       "      <td>114</td>\n",
       "      <td>156</td>\n",
       "      <td>110</td>\n",
       "      <td>160</td>\n",
       "      <td>110</td>\n",
       "      <td>160</td>\n",
       "      <td>0</td>\n",
       "    </tr>\n",
       "    <tr>\n",
       "      <th>3</th>\n",
       "      <td>70</td>\n",
       "      <td>117</td>\n",
       "      <td>170</td>\n",
       "      <td>89</td>\n",
       "      <td>136</td>\n",
       "      <td>102</td>\n",
       "      <td>128</td>\n",
       "      <td>112</td>\n",
       "      <td>124</td>\n",
       "      <td>145</td>\n",
       "      <td>...</td>\n",
       "      <td>116</td>\n",
       "      <td>101</td>\n",
       "      <td>159</td>\n",
       "      <td>110</td>\n",
       "      <td>155</td>\n",
       "      <td>104</td>\n",
       "      <td>160</td>\n",
       "      <td>104</td>\n",
       "      <td>160</td>\n",
       "      <td>0</td>\n",
       "    </tr>\n",
       "    <tr>\n",
       "      <th>4</th>\n",
       "      <td>94</td>\n",
       "      <td>115</td>\n",
       "      <td>165</td>\n",
       "      <td>98</td>\n",
       "      <td>130</td>\n",
       "      <td>102</td>\n",
       "      <td>123</td>\n",
       "      <td>111</td>\n",
       "      <td>113</td>\n",
       "      <td>144</td>\n",
       "      <td>...</td>\n",
       "      <td>116</td>\n",
       "      <td>110</td>\n",
       "      <td>165</td>\n",
       "      <td>110</td>\n",
       "      <td>158</td>\n",
       "      <td>112</td>\n",
       "      <td>165</td>\n",
       "      <td>112</td>\n",
       "      <td>165</td>\n",
       "      <td>0</td>\n",
       "    </tr>\n",
       "    <tr>\n",
       "      <th>...</th>\n",
       "      <td>...</td>\n",
       "      <td>...</td>\n",
       "      <td>...</td>\n",
       "      <td>...</td>\n",
       "      <td>...</td>\n",
       "      <td>...</td>\n",
       "      <td>...</td>\n",
       "      <td>...</td>\n",
       "      <td>...</td>\n",
       "      <td>...</td>\n",
       "      <td>...</td>\n",
       "      <td>...</td>\n",
       "      <td>...</td>\n",
       "      <td>...</td>\n",
       "      <td>...</td>\n",
       "      <td>...</td>\n",
       "      <td>...</td>\n",
       "      <td>...</td>\n",
       "      <td>...</td>\n",
       "      <td>...</td>\n",
       "      <td>...</td>\n",
       "    </tr>\n",
       "    <tr>\n",
       "      <th>13371</th>\n",
       "      <td>90</td>\n",
       "      <td>113</td>\n",
       "      <td>154</td>\n",
       "      <td>96</td>\n",
       "      <td>130</td>\n",
       "      <td>104</td>\n",
       "      <td>123</td>\n",
       "      <td>114</td>\n",
       "      <td>117</td>\n",
       "      <td>141</td>\n",
       "      <td>...</td>\n",
       "      <td>119</td>\n",
       "      <td>108</td>\n",
       "      <td>155</td>\n",
       "      <td>111</td>\n",
       "      <td>149</td>\n",
       "      <td>110</td>\n",
       "      <td>154</td>\n",
       "      <td>110</td>\n",
       "      <td>154</td>\n",
       "      <td>0</td>\n",
       "    </tr>\n",
       "    <tr>\n",
       "      <th>13372</th>\n",
       "      <td>79</td>\n",
       "      <td>115</td>\n",
       "      <td>164</td>\n",
       "      <td>91</td>\n",
       "      <td>131</td>\n",
       "      <td>100</td>\n",
       "      <td>125</td>\n",
       "      <td>111</td>\n",
       "      <td>119</td>\n",
       "      <td>142</td>\n",
       "      <td>...</td>\n",
       "      <td>116</td>\n",
       "      <td>108</td>\n",
       "      <td>159</td>\n",
       "      <td>113</td>\n",
       "      <td>154</td>\n",
       "      <td>111</td>\n",
       "      <td>159</td>\n",
       "      <td>111</td>\n",
       "      <td>159</td>\n",
       "      <td>0</td>\n",
       "    </tr>\n",
       "    <tr>\n",
       "      <th>13373</th>\n",
       "      <td>84</td>\n",
       "      <td>108</td>\n",
       "      <td>157</td>\n",
       "      <td>99</td>\n",
       "      <td>135</td>\n",
       "      <td>99</td>\n",
       "      <td>127</td>\n",
       "      <td>110</td>\n",
       "      <td>123</td>\n",
       "      <td>143</td>\n",
       "      <td>...</td>\n",
       "      <td>115</td>\n",
       "      <td>112</td>\n",
       "      <td>156</td>\n",
       "      <td>117</td>\n",
       "      <td>155</td>\n",
       "      <td>114</td>\n",
       "      <td>156</td>\n",
       "      <td>114</td>\n",
       "      <td>156</td>\n",
       "      <td>0</td>\n",
       "    </tr>\n",
       "    <tr>\n",
       "      <th>13374</th>\n",
       "      <td>71</td>\n",
       "      <td>122</td>\n",
       "      <td>171</td>\n",
       "      <td>90</td>\n",
       "      <td>133</td>\n",
       "      <td>101</td>\n",
       "      <td>125</td>\n",
       "      <td>113</td>\n",
       "      <td>123</td>\n",
       "      <td>140</td>\n",
       "      <td>...</td>\n",
       "      <td>116</td>\n",
       "      <td>108</td>\n",
       "      <td>160</td>\n",
       "      <td>115</td>\n",
       "      <td>154</td>\n",
       "      <td>112</td>\n",
       "      <td>160</td>\n",
       "      <td>112</td>\n",
       "      <td>160</td>\n",
       "      <td>0</td>\n",
       "    </tr>\n",
       "    <tr>\n",
       "      <th>13375</th>\n",
       "      <td>58</td>\n",
       "      <td>105</td>\n",
       "      <td>167</td>\n",
       "      <td>79</td>\n",
       "      <td>128</td>\n",
       "      <td>100</td>\n",
       "      <td>113</td>\n",
       "      <td>116</td>\n",
       "      <td>107</td>\n",
       "      <td>156</td>\n",
       "      <td>...</td>\n",
       "      <td>118</td>\n",
       "      <td>90</td>\n",
       "      <td>164</td>\n",
       "      <td>100</td>\n",
       "      <td>163</td>\n",
       "      <td>94</td>\n",
       "      <td>165</td>\n",
       "      <td>94</td>\n",
       "      <td>165</td>\n",
       "      <td>1</td>\n",
       "    </tr>\n",
       "  </tbody>\n",
       "</table>\n",
       "<p>13376 rows × 41 columns</p>\n",
       "</div>"
      ],
      "text/plain": [
       "       chin_0_x  chin_0_y  chin_4_y  chin_5_x  right_eyebrow_0_x  \\\n",
       "0            83       134       174        96                117   \n",
       "1            62       110       162        89                133   \n",
       "2            75       120       171        92                129   \n",
       "3            70       117       170        89                136   \n",
       "4            94       115       165        98                130   \n",
       "...         ...       ...       ...       ...                ...   \n",
       "13371        90       113       154        96                130   \n",
       "13372        79       115       164        91                131   \n",
       "13373        84       108       157        99                135   \n",
       "13374        71       122       171        90                133   \n",
       "13375        58       105       167        79                128   \n",
       "\n",
       "       right_eyebrow_0_y  nose_bridge_0_x  nose_bridge_0_y  nose_tip_1_x  \\\n",
       "0                    105              110              115           109   \n",
       "1                    105              128              113           125   \n",
       "2                    101              122              110           120   \n",
       "3                    102              128              112           124   \n",
       "4                    102              123              111           113   \n",
       "...                  ...              ...              ...           ...   \n",
       "13371                104              123              114           117   \n",
       "13372                100              125              111           119   \n",
       "13373                 99              127              110           123   \n",
       "13374                101              125              113           123   \n",
       "13375                100              113              116           107   \n",
       "\n",
       "       nose_tip_1_y  ...  right_eye_5_y  top_lip_0_x  top_lip_0_y  \\\n",
       "0               142  ...            116          105          164   \n",
       "1               143  ...            116          109          159   \n",
       "2               143  ...            115          108          160   \n",
       "3               145  ...            116          101          159   \n",
       "4               144  ...            116          110          165   \n",
       "...             ...  ...            ...          ...          ...   \n",
       "13371           141  ...            119          108          155   \n",
       "13372           142  ...            116          108          159   \n",
       "13373           143  ...            115          112          156   \n",
       "13374           140  ...            116          108          160   \n",
       "13375           156  ...            118           90          164   \n",
       "\n",
       "       top_lip_1_x  top_lip_1_y  top_lip_11_x  top_lip_11_y  bottom_lip_7_x  \\\n",
       "0              107          157           108           163             108   \n",
       "1              118          155           112           159             112   \n",
       "2              114          156           110           160             110   \n",
       "3              110          155           104           160             104   \n",
       "4              110          158           112           165             112   \n",
       "...            ...          ...           ...           ...             ...   \n",
       "13371          111          149           110           154             110   \n",
       "13372          113          154           111           159             111   \n",
       "13373          117          155           114           156             114   \n",
       "13374          115          154           112           160             112   \n",
       "13375          100          163            94           165              94   \n",
       "\n",
       "       bottom_lip_7_y  Angel_man  \n",
       "0                 163          0  \n",
       "1                 159          0  \n",
       "2                 160          0  \n",
       "3                 160          0  \n",
       "4                 165          0  \n",
       "...               ...        ...  \n",
       "13371             154          0  \n",
       "13372             159          0  \n",
       "13373             156          0  \n",
       "13374             160          0  \n",
       "13375             165          1  \n",
       "\n",
       "[13376 rows x 41 columns]"
      ]
     },
     "execution_count": 66,
     "metadata": {},
     "output_type": "execute_result"
    }
   ],
   "source": [
    "data"
   ]
  },
  {
   "cell_type": "code",
   "execution_count": 67,
   "metadata": {},
   "outputs": [],
   "source": [
    "data = data.sample(frac=1).reset_index(drop=True)"
   ]
  },
  {
   "cell_type": "code",
   "execution_count": 68,
   "metadata": {},
   "outputs": [],
   "source": [
    "from sklearn.model_selection import train_test_split\n",
    "\n",
    "\n",
    "X = data.drop('Angel_man', axis=1)\n",
    "y = data['Angel_man']\n",
    "# implementing train-test-split\n",
    "X_train, X_test, y_train, y_test = train_test_split(X, y, test_size=0.33, random_state=66)\n",
    "from sklearn import model_selection\n",
    "# random forest model creation\n",
    "rfc = RandomForestClassifier()\n",
    "rfc.fit(X_train,y_train)\n",
    "# predictions\n",
    "rfc_predict = rfc.predict(X_test)"
   ]
  },
  {
   "cell_type": "code",
   "execution_count": 69,
   "metadata": {},
   "outputs": [],
   "source": [
    "from matplotlib import pyplot as plt\n",
    "\n",
    "def plot_confusion_matrix(cm, classes,\n",
    "                          normalize=False,\n",
    "                          title='Confusion matrix',\n",
    "                          cmap=plt.cm.Blues):\n",
    "    \"\"\"\n",
    "    This function prints and plots the confusion matrix.\n",
    "    Normalization can be applied by setting `normalize=True`.\n",
    "    \"\"\"\n",
    "    import itertools\n",
    "    if normalize:\n",
    "        cm = cm.astype('float') / cm.sum(axis=1)[:, np.newaxis]\n",
    "        print(\"Normalized confusion matrix\")\n",
    "    else:\n",
    "        print('Confusion matrix, without normalization')\n",
    "\n",
    "    print(cm)\n",
    "\n",
    "    plt.imshow(cm, interpolation='nearest', cmap=cmap)\n",
    "    plt.title(title)\n",
    "    plt.colorbar()\n",
    "    tick_marks = np.arange(len(classes))\n",
    "    plt.xticks(tick_marks, classes, rotation=45)\n",
    "    plt.yticks(tick_marks, classes)\n",
    "\n",
    "    fmt = '.2f' if normalize else 'd'\n",
    "    thresh = cm.max() / 2.\n",
    "    for i, j in itertools.product(range(cm.shape[0]), range(cm.shape[1])):\n",
    "        plt.text(j, i, format(cm[i, j], fmt),\n",
    "                 horizontalalignment=\"center\",\n",
    "                 color=\"white\" if cm[i, j] > thresh else \"black\")\n",
    "\n",
    "    plt.ylabel('True label')\n",
    "    plt.xlabel('Predicted label')\n",
    "    plt.tight_layout()"
   ]
  },
  {
   "cell_type": "code",
   "execution_count": 71,
   "metadata": {},
   "outputs": [
    {
     "name": "stdout",
     "output_type": "stream",
     "text": [
      "Confusion matrix, without normalization\n",
      "[[4359    3]\n",
      " [   4   49]]\n"
     ]
    },
    {
     "data": {
      "image/png": "[encoded data removed]",
      "text/plain": [
       "<Figure size 432x288 with 2 Axes>"
      ]
     },
     "metadata": {
      "needs_background": "light"
     },
     "output_type": "display_data"
    }
   ],
   "source": [
    "from sklearn.metrics import classification_report, confusion_matrix\n",
    "\n",
    "\n",
    "\n",
    "cnf_matrix = confusion_matrix(y_test, rfc_predict, labels=[0,1])\n",
    "np.set_printoptions(precision=2)\n",
    "\n",
    "# Plot non-normalized confusion matrix\n",
    "plt.figure()\n",
    "plot_confusion_matrix(cnf_matrix, classes=['Normal','Angel man'],\n",
    "                      title='Confusion matrix without normalization')"
   ]
  },
  {
   "cell_type": "code",
   "execution_count": 72,
   "metadata": {},
   "outputs": [
    {
     "name": "stdout",
     "output_type": "stream",
     "text": [
      "              precision    recall  f1-score   support\n",
      "\n",
      "      Normal       1.00      1.00      1.00      4362\n",
      "   Angel man       0.94      0.92      0.93        53\n",
      "\n",
      "    accuracy                           1.00      4415\n",
      "   macro avg       0.97      0.96      0.97      4415\n",
      "weighted avg       1.00      1.00      1.00      4415\n",
      "\n"
     ]
    }
   ],
   "source": [
    "target_names = ['Normal','Angel man']\n",
    "print(classification_report(y_test, rfc_predict, target_names=target_names))"
   ]
  },
  {
   "cell_type": "code",
   "execution_count": 73,
   "metadata": {},
   "outputs": [
    {
     "name": "stdout",
     "output_type": "stream",
     "text": [
      "auc = 0.9619202719887883\n"
     ]
    },
    {
     "data": {
      "image/png": "[encoded data removed]",
      "text/plain": [
       "<Figure size 432x288 with 1 Axes>"
      ]
     },
     "metadata": {
      "needs_background": "light"
     },
     "output_type": "display_data"
    }
   ],
   "source": [
    "from sklearn.metrics import roc_curve, auc\n",
    "from sklearn.metrics import roc_auc_score\n",
    "from sklearn import preprocessing\n",
    "from matplotlib import pyplot as plt\n",
    "\n",
    "fpr, tpr, thresholds = roc_curve(y_test, rfc_predict)\n",
    "auc = auc(fpr, tpr)\n",
    "print('auc =', auc)\n",
    "\n",
    "plt.figure()\n",
    "plt.title('ROC curve for Angel man patients')\n",
    "plt.plot(fpr, tpr, 'b',\n",
    "label='AUC = %0.2f'% auc)\n",
    "plt.legend(loc='lower right')\n",
    "plt.plot([0,1],[0,1],'r--')\n",
    "plt.xlim([-0.1,1.2])\n",
    "plt.ylim([-0.1,1.2])\n",
    "plt.ylabel('True Positive Rate')\n",
    "plt.xlabel('False Positive Rate')\n",
    "plt.show()"
   ]
  },
  {
   "cell_type": "code",
   "execution_count": 74,
   "metadata": {},
   "outputs": [],
   "source": [
    "import pickle\n",
    "\n",
    "filename = 'C:/Users/HP/Desktop/Data/Angel_Man_RF_model.sav'\n",
    "pickle.dump(rfc, open(filename, 'wb'))"
   ]
  },
  {
   "cell_type": "code",
   "execution_count": null,
   "metadata": {},
   "outputs": [],
   "source": []
  }
 ],
 "metadata": {
  "kernelspec": {
   "display_name": "Python 3",
   "language": "python",
   "name": "python3"
  },
  "language_info": {
   "codemirror_mode": {
    "name": "ipython",
    "version": 3
   },
   "file_extension": ".py",
   "mimetype": "text/x-python",
   "name": "python",
   "nbconvert_exporter": "python",
   "pygments_lexer": "ipython3",
   "version": "3.6.8"
  }
 },
 "nbformat": 4,
 "nbformat_minor": 4
}
